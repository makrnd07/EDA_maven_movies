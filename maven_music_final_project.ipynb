{
 "cells": [
  {
   "cell_type": "markdown",
   "metadata": {},
   "source": [
    "# Final Project"
   ]
  },
  {
   "cell_type": "markdown",
   "metadata": {},
   "source": [
    "## 1. Scope the Project"
   ]
  },
  {
   "cell_type": "markdown",
   "metadata": {},
   "source": [
    "Our plan is to use a supervised learning technique to predict which customers are most likely to cancel their subscription using **the past three months of customer data which includes subscription and listening history**."
   ]
  },
  {
   "cell_type": "markdown",
   "metadata": {},
   "source": [
    "## 2. Gather Data"
   ]
  },
  {
   "cell_type": "markdown",
   "metadata": {},
   "source": [
    "Read the following files into Python:\n",
    "* Customer data: *maven_music_customers.csv*\n",
    "* Listing history: *maven_music_listening_history.xlsx*"
   ]
  },
  {
   "cell_type": "code",
   "execution_count": 1,
   "metadata": {},
   "outputs": [],
   "source": [
    "# Import required libraries\n",
    "import numpy as np\n",
    "import pandas as pd\n",
    "import matplotlib.pyplot as plt"
   ]
  },
  {
   "cell_type": "code",
   "execution_count": 2,
   "metadata": {},
   "outputs": [],
   "source": [
    "# Read in the customer data\n",
    "df_customers = pd.read_csv('maven_music_customers.csv')"
   ]
  },
  {
   "cell_type": "code",
   "execution_count": 3,
   "metadata": {},
   "outputs": [],
   "source": [
    "# Read in the listening history\n",
    "df_listen_history = pd.read_excel('maven_music_listening_history.xlsx', sheet_name = 'listening_history')"
   ]
  },
  {
   "cell_type": "code",
   "execution_count": 4,
   "metadata": {},
   "outputs": [],
   "source": [
    "# Read in the audio data\n",
    "df_audio = pd.read_excel('maven_music_listening_history.xlsx', sheet_name = 'audio_files')"
   ]
  },
  {
   "cell_type": "code",
   "execution_count": 5,
   "metadata": {},
   "outputs": [],
   "source": [
    "# Read in the session data\n",
    "df_session = pd.read_excel('maven_music_listening_history.xlsx', sheet_name = 'session_login_time')"
   ]
  },
  {
   "cell_type": "code",
   "execution_count": 6,
   "metadata": {},
   "outputs": [
    {
     "data": {
      "text/html": [
       "<div>\n",
       "<style scoped>\n",
       "    .dataframe tbody tr th:only-of-type {\n",
       "        vertical-align: middle;\n",
       "    }\n",
       "\n",
       "    .dataframe tbody tr th {\n",
       "        vertical-align: top;\n",
       "    }\n",
       "\n",
       "    .dataframe thead th {\n",
       "        text-align: right;\n",
       "    }\n",
       "</style>\n",
       "<table border=\"1\" class=\"dataframe\">\n",
       "  <thead>\n",
       "    <tr style=\"text-align: right;\">\n",
       "      <th></th>\n",
       "      <th>Customer ID</th>\n",
       "      <th>Customer Name</th>\n",
       "      <th>Email</th>\n",
       "      <th>Member Since</th>\n",
       "      <th>Subscription Plan</th>\n",
       "      <th>Subscription Rate</th>\n",
       "      <th>Discount?</th>\n",
       "      <th>Cancellation Date</th>\n",
       "    </tr>\n",
       "  </thead>\n",
       "  <tbody>\n",
       "    <tr>\n",
       "      <th>0</th>\n",
       "      <td>5001</td>\n",
       "      <td>Harmony Greene</td>\n",
       "      <td>Email: harmonious.vibes@email.com</td>\n",
       "      <td>3/13/23</td>\n",
       "      <td>Basic (Ads)</td>\n",
       "      <td>$2.99</td>\n",
       "      <td>NaN</td>\n",
       "      <td>NaN</td>\n",
       "    </tr>\n",
       "    <tr>\n",
       "      <th>1</th>\n",
       "      <td>5002</td>\n",
       "      <td>Aria Keys</td>\n",
       "      <td>Email: melodious.aria@email.edu</td>\n",
       "      <td>3/13/23</td>\n",
       "      <td>NaN</td>\n",
       "      <td>$2.99</td>\n",
       "      <td>NaN</td>\n",
       "      <td>NaN</td>\n",
       "    </tr>\n",
       "    <tr>\n",
       "      <th>2</th>\n",
       "      <td>5004</td>\n",
       "      <td>Lyric Bell</td>\n",
       "      <td>Email: rhythmical.lyric@email.com</td>\n",
       "      <td>3/13/23</td>\n",
       "      <td>NaN</td>\n",
       "      <td>$2.99</td>\n",
       "      <td>NaN</td>\n",
       "      <td>6/1/23</td>\n",
       "    </tr>\n",
       "    <tr>\n",
       "      <th>3</th>\n",
       "      <td>5267</td>\n",
       "      <td>Rock Bassett</td>\n",
       "      <td>Email: groovy.rock@email.com</td>\n",
       "      <td>3/20/23</td>\n",
       "      <td>Basic (Ads)</td>\n",
       "      <td>$2.99</td>\n",
       "      <td>NaN</td>\n",
       "      <td>NaN</td>\n",
       "    </tr>\n",
       "    <tr>\n",
       "      <th>4</th>\n",
       "      <td>5338</td>\n",
       "      <td>Rhythm Dixon</td>\n",
       "      <td>Email: beats.by.rhythm@email.edu</td>\n",
       "      <td>3/20/23</td>\n",
       "      <td>NaN</td>\n",
       "      <td>$2.99</td>\n",
       "      <td>NaN</td>\n",
       "      <td>NaN</td>\n",
       "    </tr>\n",
       "  </tbody>\n",
       "</table>\n",
       "</div>"
      ],
      "text/plain": [
       "   Customer ID   Customer Name                              Email  \\\n",
       "0         5001  Harmony Greene  Email: harmonious.vibes@email.com   \n",
       "1         5002       Aria Keys    Email: melodious.aria@email.edu   \n",
       "2         5004      Lyric Bell  Email: rhythmical.lyric@email.com   \n",
       "3         5267    Rock Bassett       Email: groovy.rock@email.com   \n",
       "4         5338    Rhythm Dixon   Email: beats.by.rhythm@email.edu   \n",
       "\n",
       "  Member Since Subscription Plan Subscription Rate Discount? Cancellation Date  \n",
       "0      3/13/23       Basic (Ads)            $2.99        NaN               NaN  \n",
       "1      3/13/23               NaN            $2.99        NaN               NaN  \n",
       "2      3/13/23               NaN            $2.99        NaN            6/1/23  \n",
       "3      3/20/23       Basic (Ads)            $2.99        NaN               NaN  \n",
       "4      3/20/23               NaN            $2.99        NaN               NaN  "
      ]
     },
     "execution_count": 6,
     "metadata": {},
     "output_type": "execute_result"
    }
   ],
   "source": [
    "df_customers.head()"
   ]
  },
  {
   "cell_type": "code",
   "execution_count": 7,
   "metadata": {},
   "outputs": [
    {
     "data": {
      "text/html": [
       "<div>\n",
       "<style scoped>\n",
       "    .dataframe tbody tr th:only-of-type {\n",
       "        vertical-align: middle;\n",
       "    }\n",
       "\n",
       "    .dataframe tbody tr th {\n",
       "        vertical-align: top;\n",
       "    }\n",
       "\n",
       "    .dataframe thead th {\n",
       "        text-align: right;\n",
       "    }\n",
       "</style>\n",
       "<table border=\"1\" class=\"dataframe\">\n",
       "  <thead>\n",
       "    <tr style=\"text-align: right;\">\n",
       "      <th></th>\n",
       "      <th>Customer ID</th>\n",
       "      <th>Session ID</th>\n",
       "      <th>Audio Order</th>\n",
       "      <th>Audio ID</th>\n",
       "      <th>Audio Type</th>\n",
       "    </tr>\n",
       "  </thead>\n",
       "  <tbody>\n",
       "    <tr>\n",
       "      <th>0</th>\n",
       "      <td>5001</td>\n",
       "      <td>100520</td>\n",
       "      <td>1</td>\n",
       "      <td>101</td>\n",
       "      <td>Song</td>\n",
       "    </tr>\n",
       "    <tr>\n",
       "      <th>1</th>\n",
       "      <td>5001</td>\n",
       "      <td>100520</td>\n",
       "      <td>2</td>\n",
       "      <td>102</td>\n",
       "      <td>Song</td>\n",
       "    </tr>\n",
       "    <tr>\n",
       "      <th>2</th>\n",
       "      <td>5001</td>\n",
       "      <td>100520</td>\n",
       "      <td>3</td>\n",
       "      <td>103</td>\n",
       "      <td>Song</td>\n",
       "    </tr>\n",
       "    <tr>\n",
       "      <th>3</th>\n",
       "      <td>5001</td>\n",
       "      <td>100520</td>\n",
       "      <td>4</td>\n",
       "      <td>104</td>\n",
       "      <td>Song</td>\n",
       "    </tr>\n",
       "    <tr>\n",
       "      <th>4</th>\n",
       "      <td>5001</td>\n",
       "      <td>100520</td>\n",
       "      <td>5</td>\n",
       "      <td>105</td>\n",
       "      <td>Song</td>\n",
       "    </tr>\n",
       "  </tbody>\n",
       "</table>\n",
       "</div>"
      ],
      "text/plain": [
       "   Customer ID  Session ID  Audio Order  Audio ID Audio Type\n",
       "0         5001      100520            1       101       Song\n",
       "1         5001      100520            2       102       Song\n",
       "2         5001      100520            3       103       Song\n",
       "3         5001      100520            4       104       Song\n",
       "4         5001      100520            5       105       Song"
      ]
     },
     "execution_count": 7,
     "metadata": {},
     "output_type": "execute_result"
    }
   ],
   "source": [
    "df_listen_history.head()"
   ]
  },
  {
   "cell_type": "code",
   "execution_count": 8,
   "metadata": {},
   "outputs": [
    {
     "data": {
      "text/html": [
       "<div>\n",
       "<style scoped>\n",
       "    .dataframe tbody tr th:only-of-type {\n",
       "        vertical-align: middle;\n",
       "    }\n",
       "\n",
       "    .dataframe tbody tr th {\n",
       "        vertical-align: top;\n",
       "    }\n",
       "\n",
       "    .dataframe thead th {\n",
       "        text-align: right;\n",
       "    }\n",
       "</style>\n",
       "<table border=\"1\" class=\"dataframe\">\n",
       "  <thead>\n",
       "    <tr style=\"text-align: right;\">\n",
       "      <th></th>\n",
       "      <th>ID</th>\n",
       "      <th>Name</th>\n",
       "      <th>Genre</th>\n",
       "      <th>Popularity</th>\n",
       "    </tr>\n",
       "  </thead>\n",
       "  <tbody>\n",
       "    <tr>\n",
       "      <th>0</th>\n",
       "      <td>Song-101</td>\n",
       "      <td>Dance All Night</td>\n",
       "      <td>Pop</td>\n",
       "      <td>1</td>\n",
       "    </tr>\n",
       "    <tr>\n",
       "      <th>1</th>\n",
       "      <td>Song-102</td>\n",
       "      <td>Unbreakable Beat</td>\n",
       "      <td>Pop</td>\n",
       "      <td>2</td>\n",
       "    </tr>\n",
       "    <tr>\n",
       "      <th>2</th>\n",
       "      <td>Song-103</td>\n",
       "      <td>Sunset Boulevard</td>\n",
       "      <td>Pop Music</td>\n",
       "      <td>5</td>\n",
       "    </tr>\n",
       "    <tr>\n",
       "      <th>3</th>\n",
       "      <td>Song-104</td>\n",
       "      <td>Glowing Hearts</td>\n",
       "      <td>Pop Music</td>\n",
       "      <td>10</td>\n",
       "    </tr>\n",
       "    <tr>\n",
       "      <th>4</th>\n",
       "      <td>Song-105</td>\n",
       "      <td>Pop Rocks</td>\n",
       "      <td>Pop Music</td>\n",
       "      <td>52</td>\n",
       "    </tr>\n",
       "  </tbody>\n",
       "</table>\n",
       "</div>"
      ],
      "text/plain": [
       "         ID              Name      Genre  Popularity\n",
       "0  Song-101   Dance All Night        Pop           1\n",
       "1  Song-102  Unbreakable Beat        Pop           2\n",
       "2  Song-103  Sunset Boulevard  Pop Music           5\n",
       "3  Song-104    Glowing Hearts  Pop Music          10\n",
       "4  Song-105         Pop Rocks  Pop Music          52"
      ]
     },
     "execution_count": 8,
     "metadata": {},
     "output_type": "execute_result"
    }
   ],
   "source": [
    "df_audio.head()"
   ]
  },
  {
   "cell_type": "code",
   "execution_count": 9,
   "metadata": {},
   "outputs": [
    {
     "data": {
      "text/html": [
       "<div>\n",
       "<style scoped>\n",
       "    .dataframe tbody tr th:only-of-type {\n",
       "        vertical-align: middle;\n",
       "    }\n",
       "\n",
       "    .dataframe tbody tr th {\n",
       "        vertical-align: top;\n",
       "    }\n",
       "\n",
       "    .dataframe thead th {\n",
       "        text-align: right;\n",
       "    }\n",
       "</style>\n",
       "<table border=\"1\" class=\"dataframe\">\n",
       "  <thead>\n",
       "    <tr style=\"text-align: right;\">\n",
       "      <th></th>\n",
       "      <th>Session ID</th>\n",
       "      <th>Session Log In Time</th>\n",
       "    </tr>\n",
       "  </thead>\n",
       "  <tbody>\n",
       "    <tr>\n",
       "      <th>0</th>\n",
       "      <td>100520</td>\n",
       "      <td>2023-03-13 18:29:00</td>\n",
       "    </tr>\n",
       "    <tr>\n",
       "      <th>1</th>\n",
       "      <td>100522</td>\n",
       "      <td>2023-03-13 22:15:00</td>\n",
       "    </tr>\n",
       "    <tr>\n",
       "      <th>2</th>\n",
       "      <td>100525</td>\n",
       "      <td>2023-03-14 10:01:00</td>\n",
       "    </tr>\n",
       "    <tr>\n",
       "      <th>3</th>\n",
       "      <td>100527</td>\n",
       "      <td>2023-03-13 14:14:00</td>\n",
       "    </tr>\n",
       "    <tr>\n",
       "      <th>4</th>\n",
       "      <td>100538</td>\n",
       "      <td>2023-03-21 12:23:00</td>\n",
       "    </tr>\n",
       "  </tbody>\n",
       "</table>\n",
       "</div>"
      ],
      "text/plain": [
       "   Session ID Session Log In Time\n",
       "0      100520 2023-03-13 18:29:00\n",
       "1      100522 2023-03-13 22:15:00\n",
       "2      100525 2023-03-14 10:01:00\n",
       "3      100527 2023-03-13 14:14:00\n",
       "4      100538 2023-03-21 12:23:00"
      ]
     },
     "execution_count": 9,
     "metadata": {},
     "output_type": "execute_result"
    }
   ],
   "source": [
    "df_session.head()"
   ]
  },
  {
   "cell_type": "markdown",
   "metadata": {},
   "source": [
    "## 3. Clean Data"
   ]
  },
  {
   "cell_type": "markdown",
   "metadata": {},
   "source": [
    "### a. Convert Data Types"
   ]
  },
  {
   "cell_type": "markdown",
   "metadata": {},
   "source": [
    "Check the data types of the data in the tables and convert to numeric and datetime values as necessary."
   ]
  },
  {
   "cell_type": "code",
   "execution_count": 10,
   "metadata": {
    "scrolled": true
   },
   "outputs": [
    {
     "data": {
      "text/plain": [
       "Customer ID           int64\n",
       "Customer Name        object\n",
       "Email                object\n",
       "Member Since         object\n",
       "Subscription Plan    object\n",
       "Subscription Rate    object\n",
       "Discount?            object\n",
       "Cancellation Date    object\n",
       "dtype: object"
      ]
     },
     "execution_count": 10,
     "metadata": {},
     "output_type": "execute_result"
    }
   ],
   "source": [
    "# Check the data types\n",
    "df_customers.dtypes"
   ]
  },
  {
   "cell_type": "code",
   "execution_count": 11,
   "metadata": {},
   "outputs": [
    {
     "data": {
      "text/plain": [
       "Customer ID     int64\n",
       "Session ID      int64\n",
       "Audio Order     int64\n",
       "Audio ID        int64\n",
       "Audio Type     object\n",
       "dtype: object"
      ]
     },
     "execution_count": 11,
     "metadata": {},
     "output_type": "execute_result"
    }
   ],
   "source": [
    "df_listen_history.dtypes"
   ]
  },
  {
   "cell_type": "code",
   "execution_count": 12,
   "metadata": {},
   "outputs": [
    {
     "data": {
      "text/plain": [
       "ID            object\n",
       "Name          object\n",
       "Genre         object\n",
       "Popularity     int64\n",
       "dtype: object"
      ]
     },
     "execution_count": 12,
     "metadata": {},
     "output_type": "execute_result"
    }
   ],
   "source": [
    "df_audio.dtypes"
   ]
  },
  {
   "cell_type": "code",
   "execution_count": 13,
   "metadata": {},
   "outputs": [
    {
     "data": {
      "text/plain": [
       "Session ID                      int64\n",
       "Session Log In Time    datetime64[ns]\n",
       "dtype: object"
      ]
     },
     "execution_count": 13,
     "metadata": {},
     "output_type": "execute_result"
    }
   ],
   "source": [
    "df_session.dtypes"
   ]
  },
  {
   "cell_type": "code",
   "execution_count": 14,
   "metadata": {},
   "outputs": [
    {
     "name": "stderr",
     "output_type": "stream",
     "text": [
      "C:\\Users\\luffy\\AppData\\Local\\Temp\\ipykernel_31100\\1136408421.py:2: UserWarning: Could not infer format, so each element will be parsed individually, falling back to `dateutil`. To ensure parsing is consistent and as-expected, please specify a format.\n",
      "  df_customers['Member Since'] = pd.to_datetime(df_customers['Member Since'])\n",
      "C:\\Users\\luffy\\AppData\\Local\\Temp\\ipykernel_31100\\1136408421.py:5: UserWarning: Could not infer format, so each element will be parsed individually, falling back to `dateutil`. To ensure parsing is consistent and as-expected, please specify a format.\n",
      "  df_customers['Cancellation Date'] = pd.to_datetime(df_customers['Cancellation Date'])\n"
     ]
    }
   ],
   "source": [
    "# Convert objects to numeric and datetime fields\n",
    "df_customers['Member Since'] = pd.to_datetime(df_customers['Member Since'])\n",
    "temp = df_customers['Subscription Rate'].str.replace('$','')\n",
    "df_customers['Subscription Rate'] = pd.to_numeric(temp)\n",
    "df_customers['Cancellation Date'] = pd.to_datetime(df_customers['Cancellation Date'])"
   ]
  },
  {
   "cell_type": "markdown",
   "metadata": {},
   "source": [
    "### b. Resolve Data Issues"
   ]
  },
  {
   "cell_type": "markdown",
   "metadata": {},
   "source": [
    "Check for missing data, inconsistent text and typos, duplicate data and outliers."
   ]
  },
  {
   "cell_type": "markdown",
   "metadata": {},
   "source": [
    "#### i. Missing Data"
   ]
  },
  {
   "cell_type": "code",
   "execution_count": 15,
   "metadata": {},
   "outputs": [
    {
     "data": {
      "text/plain": [
       "Customer ID           0\n",
       "Customer Name         0\n",
       "Email                 0\n",
       "Member Since          0\n",
       "Subscription Plan     5\n",
       "Subscription Rate     0\n",
       "Discount?            23\n",
       "Cancellation Date    17\n",
       "dtype: int64"
      ]
     },
     "execution_count": 15,
     "metadata": {},
     "output_type": "execute_result"
    }
   ],
   "source": [
    "# Look for NaN values in the customers\n",
    "df_customers.isna().sum()"
   ]
  },
  {
   "cell_type": "code",
   "execution_count": 16,
   "metadata": {},
   "outputs": [
    {
     "data": {
      "text/plain": [
       "Customer ID    0\n",
       "Session ID     0\n",
       "Audio Order    0\n",
       "Audio ID       0\n",
       "Audio Type     0\n",
       "dtype: int64"
      ]
     },
     "execution_count": 16,
     "metadata": {},
     "output_type": "execute_result"
    }
   ],
   "source": [
    "# Look for NaN values in the listening history\n",
    "df_listen_history.isna().sum()"
   ]
  },
  {
   "cell_type": "code",
   "execution_count": 17,
   "metadata": {},
   "outputs": [
    {
     "data": {
      "text/plain": [
       "ID            0\n",
       "Name          0\n",
       "Genre         0\n",
       "Popularity    0\n",
       "dtype: int64"
      ]
     },
     "execution_count": 17,
     "metadata": {},
     "output_type": "execute_result"
    }
   ],
   "source": [
    "# Look for NaN values in the audio\n",
    "df_audio.isna().sum()"
   ]
  },
  {
   "cell_type": "code",
   "execution_count": 18,
   "metadata": {},
   "outputs": [
    {
     "data": {
      "text/plain": [
       "Session ID             0\n",
       "Session Log In Time    0\n",
       "dtype: int64"
      ]
     },
     "execution_count": 18,
     "metadata": {},
     "output_type": "execute_result"
    }
   ],
   "source": [
    "# Look for NaN values in the session\n",
    "df_session.isna().sum()"
   ]
  },
  {
   "cell_type": "code",
   "execution_count": 19,
   "metadata": {},
   "outputs": [
    {
     "data": {
      "text/html": [
       "<div>\n",
       "<style scoped>\n",
       "    .dataframe tbody tr th:only-of-type {\n",
       "        vertical-align: middle;\n",
       "    }\n",
       "\n",
       "    .dataframe tbody tr th {\n",
       "        vertical-align: top;\n",
       "    }\n",
       "\n",
       "    .dataframe thead th {\n",
       "        text-align: right;\n",
       "    }\n",
       "</style>\n",
       "<table border=\"1\" class=\"dataframe\">\n",
       "  <thead>\n",
       "    <tr style=\"text-align: right;\">\n",
       "      <th></th>\n",
       "      <th>Customer ID</th>\n",
       "      <th>Customer Name</th>\n",
       "      <th>Email</th>\n",
       "      <th>Member Since</th>\n",
       "      <th>Subscription Plan</th>\n",
       "      <th>Subscription Rate</th>\n",
       "      <th>Discount?</th>\n",
       "      <th>Cancellation Date</th>\n",
       "    </tr>\n",
       "  </thead>\n",
       "  <tbody>\n",
       "    <tr>\n",
       "      <th>0</th>\n",
       "      <td>5001</td>\n",
       "      <td>Harmony Greene</td>\n",
       "      <td>Email: harmonious.vibes@email.com</td>\n",
       "      <td>2023-03-13</td>\n",
       "      <td>Basic (Ads)</td>\n",
       "      <td>2.99</td>\n",
       "      <td>NaN</td>\n",
       "      <td>NaT</td>\n",
       "    </tr>\n",
       "    <tr>\n",
       "      <th>1</th>\n",
       "      <td>5002</td>\n",
       "      <td>Aria Keys</td>\n",
       "      <td>Email: melodious.aria@email.edu</td>\n",
       "      <td>2023-03-13</td>\n",
       "      <td>NaN</td>\n",
       "      <td>2.99</td>\n",
       "      <td>NaN</td>\n",
       "      <td>NaT</td>\n",
       "    </tr>\n",
       "    <tr>\n",
       "      <th>2</th>\n",
       "      <td>5004</td>\n",
       "      <td>Lyric Bell</td>\n",
       "      <td>Email: rhythmical.lyric@email.com</td>\n",
       "      <td>2023-03-13</td>\n",
       "      <td>NaN</td>\n",
       "      <td>2.99</td>\n",
       "      <td>NaN</td>\n",
       "      <td>2023-06-01</td>\n",
       "    </tr>\n",
       "    <tr>\n",
       "      <th>3</th>\n",
       "      <td>5267</td>\n",
       "      <td>Rock Bassett</td>\n",
       "      <td>Email: groovy.rock@email.com</td>\n",
       "      <td>2023-03-20</td>\n",
       "      <td>Basic (Ads)</td>\n",
       "      <td>2.99</td>\n",
       "      <td>NaN</td>\n",
       "      <td>NaT</td>\n",
       "    </tr>\n",
       "    <tr>\n",
       "      <th>4</th>\n",
       "      <td>5338</td>\n",
       "      <td>Rhythm Dixon</td>\n",
       "      <td>Email: beats.by.rhythm@email.edu</td>\n",
       "      <td>2023-03-20</td>\n",
       "      <td>NaN</td>\n",
       "      <td>2.99</td>\n",
       "      <td>NaN</td>\n",
       "      <td>NaT</td>\n",
       "    </tr>\n",
       "    <tr>\n",
       "      <th>5</th>\n",
       "      <td>5404</td>\n",
       "      <td>Jazz Saxton</td>\n",
       "      <td>Email: jazzy.sax@email.com</td>\n",
       "      <td>2023-03-20</td>\n",
       "      <td>NaN</td>\n",
       "      <td>2.99</td>\n",
       "      <td>NaN</td>\n",
       "      <td>2023-06-03</td>\n",
       "    </tr>\n",
       "    <tr>\n",
       "      <th>6</th>\n",
       "      <td>5581</td>\n",
       "      <td>Reed Sharp</td>\n",
       "      <td>Email: sharp.tunes@email.com</td>\n",
       "      <td>2023-03-21</td>\n",
       "      <td>Premium (No Ads)</td>\n",
       "      <td>9.99</td>\n",
       "      <td>NaN</td>\n",
       "      <td>NaT</td>\n",
       "    </tr>\n",
       "    <tr>\n",
       "      <th>7</th>\n",
       "      <td>5759</td>\n",
       "      <td>Carol Kingbird</td>\n",
       "      <td>Email: songbird.carol@email.com</td>\n",
       "      <td>2023-03-22</td>\n",
       "      <td>Premium (No Ads)</td>\n",
       "      <td>9.99</td>\n",
       "      <td>NaN</td>\n",
       "      <td>2023-06-02</td>\n",
       "    </tr>\n",
       "    <tr>\n",
       "      <th>8</th>\n",
       "      <td>5761</td>\n",
       "      <td>Sonata Nash</td>\n",
       "      <td>Email: musical.sonata@email.com</td>\n",
       "      <td>2023-03-28</td>\n",
       "      <td>Premium (No Ads)</td>\n",
       "      <td>9.99</td>\n",
       "      <td>NaN</td>\n",
       "      <td>NaT</td>\n",
       "    </tr>\n",
       "    <tr>\n",
       "      <th>9</th>\n",
       "      <td>5763</td>\n",
       "      <td>Jazz Coleman</td>\n",
       "      <td>Email: coleman.jazzmaster@email.com</td>\n",
       "      <td>2023-03-28</td>\n",
       "      <td>Basic (Ads)</td>\n",
       "      <td>2.99</td>\n",
       "      <td>NaN</td>\n",
       "      <td>NaT</td>\n",
       "    </tr>\n",
       "    <tr>\n",
       "      <th>10</th>\n",
       "      <td>5826</td>\n",
       "      <td>Chord Hayes</td>\n",
       "      <td>Email: harmonic.chord@email.com</td>\n",
       "      <td>2023-03-28</td>\n",
       "      <td>Basic (Ads)</td>\n",
       "      <td>2.99</td>\n",
       "      <td>NaN</td>\n",
       "      <td>NaT</td>\n",
       "    </tr>\n",
       "    <tr>\n",
       "      <th>11</th>\n",
       "      <td>5827</td>\n",
       "      <td>Rhythm Franklin</td>\n",
       "      <td>Email: rhythmic.franklin@email.edu</td>\n",
       "      <td>2023-03-28</td>\n",
       "      <td>NaN</td>\n",
       "      <td>2.99</td>\n",
       "      <td>NaN</td>\n",
       "      <td>NaT</td>\n",
       "    </tr>\n",
       "    <tr>\n",
       "      <th>12</th>\n",
       "      <td>6029</td>\n",
       "      <td>Chord Campbell</td>\n",
       "      <td>Email: campbell.chordify@email.com</td>\n",
       "      <td>2023-03-29</td>\n",
       "      <td>Premium (No Ads)</td>\n",
       "      <td>9.99</td>\n",
       "      <td>NaN</td>\n",
       "      <td>2023-06-02</td>\n",
       "    </tr>\n",
       "    <tr>\n",
       "      <th>13</th>\n",
       "      <td>6092</td>\n",
       "      <td>Benny Beat</td>\n",
       "      <td>Email: rhythmic.benny@email.com</td>\n",
       "      <td>2023-04-01</td>\n",
       "      <td>Basic (Ads)</td>\n",
       "      <td>2.99</td>\n",
       "      <td>NaN</td>\n",
       "      <td>2023-06-01</td>\n",
       "    </tr>\n",
       "    <tr>\n",
       "      <th>14</th>\n",
       "      <td>6163</td>\n",
       "      <td>Melody Parks</td>\n",
       "      <td>Email: park.of.melodies@email.com</td>\n",
       "      <td>2023-04-05</td>\n",
       "      <td>Premium (No Ads)</td>\n",
       "      <td>9.99</td>\n",
       "      <td>NaN</td>\n",
       "      <td>NaT</td>\n",
       "    </tr>\n",
       "    <tr>\n",
       "      <th>15</th>\n",
       "      <td>6229</td>\n",
       "      <td>Symphony Rhodes</td>\n",
       "      <td>Email: rhodes.symphony@email.com</td>\n",
       "      <td>2023-04-06</td>\n",
       "      <td>Premium (No Ads)</td>\n",
       "      <td>99.99</td>\n",
       "      <td>NaN</td>\n",
       "      <td>2023-06-02</td>\n",
       "    </tr>\n",
       "    <tr>\n",
       "      <th>16</th>\n",
       "      <td>6406</td>\n",
       "      <td>Beatrice Sharp</td>\n",
       "      <td>Email: beats.by.beatrice@email.com</td>\n",
       "      <td>2023-04-08</td>\n",
       "      <td>Basic (Ads)</td>\n",
       "      <td>2.99</td>\n",
       "      <td>NaN</td>\n",
       "      <td>NaT</td>\n",
       "    </tr>\n",
       "    <tr>\n",
       "      <th>17</th>\n",
       "      <td>6584</td>\n",
       "      <td>Bobby Bass</td>\n",
       "      <td>Email: bass.master.bobby@email.edu</td>\n",
       "      <td>2023-04-09</td>\n",
       "      <td>Basic (Ads)</td>\n",
       "      <td>2.99</td>\n",
       "      <td>NaN</td>\n",
       "      <td>NaT</td>\n",
       "    </tr>\n",
       "    <tr>\n",
       "      <th>18</th>\n",
       "      <td>6586</td>\n",
       "      <td>Lyric Saunders</td>\n",
       "      <td>Email: lyrical.saunders@email.edu</td>\n",
       "      <td>2023-04-16</td>\n",
       "      <td>Basic (Ads)</td>\n",
       "      <td>2.99</td>\n",
       "      <td>NaN</td>\n",
       "      <td>NaT</td>\n",
       "    </tr>\n",
       "    <tr>\n",
       "      <th>19</th>\n",
       "      <td>6588</td>\n",
       "      <td>Harmony Bass</td>\n",
       "      <td>Email: bass.harmony@email.com</td>\n",
       "      <td>2023-04-16</td>\n",
       "      <td>Basic (Ads)</td>\n",
       "      <td>2.99</td>\n",
       "      <td>NaN</td>\n",
       "      <td>2023-06-01</td>\n",
       "    </tr>\n",
       "    <tr>\n",
       "      <th>20</th>\n",
       "      <td>6821</td>\n",
       "      <td>Reed Flat</td>\n",
       "      <td>Email: flat.tunes@email.edu</td>\n",
       "      <td>2023-04-24</td>\n",
       "      <td>Basic (Ads)</td>\n",
       "      <td>2.99</td>\n",
       "      <td>NaN</td>\n",
       "      <td>NaT</td>\n",
       "    </tr>\n",
       "    <tr>\n",
       "      <th>21</th>\n",
       "      <td>6822</td>\n",
       "      <td>Kiki Keys</td>\n",
       "      <td>Email: kiki.keys.piano@email.com</td>\n",
       "      <td>2023-05-01</td>\n",
       "      <td>Premium (No Ads)</td>\n",
       "      <td>7.99</td>\n",
       "      <td>Yes</td>\n",
       "      <td>NaT</td>\n",
       "    </tr>\n",
       "    <tr>\n",
       "      <th>24</th>\n",
       "      <td>7158</td>\n",
       "      <td>Harmony Wallace</td>\n",
       "      <td>Email: wallace.harmony@email.com</td>\n",
       "      <td>2023-05-07</td>\n",
       "      <td>Basic (Ads)</td>\n",
       "      <td>2.99</td>\n",
       "      <td>NaN</td>\n",
       "      <td>NaT</td>\n",
       "    </tr>\n",
       "    <tr>\n",
       "      <th>27</th>\n",
       "      <td>7579</td>\n",
       "      <td>Jazz Drummond</td>\n",
       "      <td>Email: drumming.jazz@email.com</td>\n",
       "      <td>2023-05-15</td>\n",
       "      <td>Basic (Ads)</td>\n",
       "      <td>2.99</td>\n",
       "      <td>NaN</td>\n",
       "      <td>NaT</td>\n",
       "    </tr>\n",
       "  </tbody>\n",
       "</table>\n",
       "</div>"
      ],
      "text/plain": [
       "    Customer ID    Customer Name                                Email  \\\n",
       "0          5001   Harmony Greene    Email: harmonious.vibes@email.com   \n",
       "1          5002        Aria Keys      Email: melodious.aria@email.edu   \n",
       "2          5004       Lyric Bell    Email: rhythmical.lyric@email.com   \n",
       "3          5267     Rock Bassett         Email: groovy.rock@email.com   \n",
       "4          5338     Rhythm Dixon     Email: beats.by.rhythm@email.edu   \n",
       "5          5404      Jazz Saxton           Email: jazzy.sax@email.com   \n",
       "6          5581       Reed Sharp         Email: sharp.tunes@email.com   \n",
       "7          5759   Carol Kingbird      Email: songbird.carol@email.com   \n",
       "8          5761      Sonata Nash      Email: musical.sonata@email.com   \n",
       "9          5763     Jazz Coleman  Email: coleman.jazzmaster@email.com   \n",
       "10         5826      Chord Hayes      Email: harmonic.chord@email.com   \n",
       "11         5827  Rhythm Franklin   Email: rhythmic.franklin@email.edu   \n",
       "12         6029   Chord Campbell   Email: campbell.chordify@email.com   \n",
       "13         6092       Benny Beat      Email: rhythmic.benny@email.com   \n",
       "14         6163     Melody Parks    Email: park.of.melodies@email.com   \n",
       "15         6229  Symphony Rhodes     Email: rhodes.symphony@email.com   \n",
       "16         6406   Beatrice Sharp   Email: beats.by.beatrice@email.com   \n",
       "17         6584       Bobby Bass   Email: bass.master.bobby@email.edu   \n",
       "18         6586   Lyric Saunders    Email: lyrical.saunders@email.edu   \n",
       "19         6588     Harmony Bass        Email: bass.harmony@email.com   \n",
       "20         6821        Reed Flat          Email: flat.tunes@email.edu   \n",
       "21         6822        Kiki Keys     Email: kiki.keys.piano@email.com   \n",
       "24         7158  Harmony Wallace     Email: wallace.harmony@email.com   \n",
       "27         7579    Jazz Drummond       Email: drumming.jazz@email.com   \n",
       "\n",
       "   Member Since Subscription Plan  Subscription Rate Discount?  \\\n",
       "0    2023-03-13       Basic (Ads)               2.99       NaN   \n",
       "1    2023-03-13               NaN               2.99       NaN   \n",
       "2    2023-03-13               NaN               2.99       NaN   \n",
       "3    2023-03-20       Basic (Ads)               2.99       NaN   \n",
       "4    2023-03-20               NaN               2.99       NaN   \n",
       "5    2023-03-20               NaN               2.99       NaN   \n",
       "6    2023-03-21  Premium (No Ads)               9.99       NaN   \n",
       "7    2023-03-22  Premium (No Ads)               9.99       NaN   \n",
       "8    2023-03-28  Premium (No Ads)               9.99       NaN   \n",
       "9    2023-03-28       Basic (Ads)               2.99       NaN   \n",
       "10   2023-03-28       Basic (Ads)               2.99       NaN   \n",
       "11   2023-03-28               NaN               2.99       NaN   \n",
       "12   2023-03-29  Premium (No Ads)               9.99       NaN   \n",
       "13   2023-04-01       Basic (Ads)               2.99       NaN   \n",
       "14   2023-04-05  Premium (No Ads)               9.99       NaN   \n",
       "15   2023-04-06  Premium (No Ads)              99.99       NaN   \n",
       "16   2023-04-08       Basic (Ads)               2.99       NaN   \n",
       "17   2023-04-09       Basic (Ads)               2.99       NaN   \n",
       "18   2023-04-16       Basic (Ads)               2.99       NaN   \n",
       "19   2023-04-16       Basic (Ads)               2.99       NaN   \n",
       "20   2023-04-24       Basic (Ads)               2.99       NaN   \n",
       "21   2023-05-01  Premium (No Ads)               7.99       Yes   \n",
       "24   2023-05-07       Basic (Ads)               2.99       NaN   \n",
       "27   2023-05-15       Basic (Ads)               2.99       NaN   \n",
       "\n",
       "   Cancellation Date  \n",
       "0                NaT  \n",
       "1                NaT  \n",
       "2         2023-06-01  \n",
       "3                NaT  \n",
       "4                NaT  \n",
       "5         2023-06-03  \n",
       "6                NaT  \n",
       "7         2023-06-02  \n",
       "8                NaT  \n",
       "9                NaT  \n",
       "10               NaT  \n",
       "11               NaT  \n",
       "12        2023-06-02  \n",
       "13        2023-06-01  \n",
       "14               NaT  \n",
       "15        2023-06-02  \n",
       "16               NaT  \n",
       "17               NaT  \n",
       "18               NaT  \n",
       "19        2023-06-01  \n",
       "20               NaT  \n",
       "21               NaT  \n",
       "24               NaT  \n",
       "27               NaT  "
      ]
     },
     "execution_count": 19,
     "metadata": {},
     "output_type": "execute_result"
    }
   ],
   "source": [
    "df_customers[df_customers.isnull().any(axis = 1)]"
   ]
  },
  {
   "cell_type": "code",
   "execution_count": 20,
   "metadata": {},
   "outputs": [
    {
     "data": {
      "text/plain": [
       "Discount?\n",
       "Yes    7\n",
       "Name: count, dtype: int64"
      ]
     },
     "execution_count": 20,
     "metadata": {},
     "output_type": "execute_result"
    }
   ],
   "source": [
    "df_customers['Discount?'].value_counts()"
   ]
  },
  {
   "cell_type": "code",
   "execution_count": 21,
   "metadata": {},
   "outputs": [],
   "source": [
    "df_customers['Discount?'] = np.where(df_customers['Discount?'].isna(), 'No', df_customers['Discount?'])"
   ]
  },
  {
   "cell_type": "code",
   "execution_count": 22,
   "metadata": {},
   "outputs": [
    {
     "data": {
      "text/html": [
       "<div>\n",
       "<style scoped>\n",
       "    .dataframe tbody tr th:only-of-type {\n",
       "        vertical-align: middle;\n",
       "    }\n",
       "\n",
       "    .dataframe tbody tr th {\n",
       "        vertical-align: top;\n",
       "    }\n",
       "\n",
       "    .dataframe thead th {\n",
       "        text-align: right;\n",
       "    }\n",
       "</style>\n",
       "<table border=\"1\" class=\"dataframe\">\n",
       "  <thead>\n",
       "    <tr style=\"text-align: right;\">\n",
       "      <th></th>\n",
       "      <th>Customer ID</th>\n",
       "      <th>Customer Name</th>\n",
       "      <th>Email</th>\n",
       "      <th>Member Since</th>\n",
       "      <th>Subscription Plan</th>\n",
       "      <th>Subscription Rate</th>\n",
       "      <th>Discount?</th>\n",
       "      <th>Cancellation Date</th>\n",
       "    </tr>\n",
       "  </thead>\n",
       "  <tbody>\n",
       "    <tr>\n",
       "      <th>1</th>\n",
       "      <td>5002</td>\n",
       "      <td>Aria Keys</td>\n",
       "      <td>Email: melodious.aria@email.edu</td>\n",
       "      <td>2023-03-13</td>\n",
       "      <td>NaN</td>\n",
       "      <td>2.99</td>\n",
       "      <td>No</td>\n",
       "      <td>NaT</td>\n",
       "    </tr>\n",
       "    <tr>\n",
       "      <th>2</th>\n",
       "      <td>5004</td>\n",
       "      <td>Lyric Bell</td>\n",
       "      <td>Email: rhythmical.lyric@email.com</td>\n",
       "      <td>2023-03-13</td>\n",
       "      <td>NaN</td>\n",
       "      <td>2.99</td>\n",
       "      <td>No</td>\n",
       "      <td>2023-06-01</td>\n",
       "    </tr>\n",
       "    <tr>\n",
       "      <th>4</th>\n",
       "      <td>5338</td>\n",
       "      <td>Rhythm Dixon</td>\n",
       "      <td>Email: beats.by.rhythm@email.edu</td>\n",
       "      <td>2023-03-20</td>\n",
       "      <td>NaN</td>\n",
       "      <td>2.99</td>\n",
       "      <td>No</td>\n",
       "      <td>NaT</td>\n",
       "    </tr>\n",
       "    <tr>\n",
       "      <th>5</th>\n",
       "      <td>5404</td>\n",
       "      <td>Jazz Saxton</td>\n",
       "      <td>Email: jazzy.sax@email.com</td>\n",
       "      <td>2023-03-20</td>\n",
       "      <td>NaN</td>\n",
       "      <td>2.99</td>\n",
       "      <td>No</td>\n",
       "      <td>2023-06-03</td>\n",
       "    </tr>\n",
       "    <tr>\n",
       "      <th>11</th>\n",
       "      <td>5827</td>\n",
       "      <td>Rhythm Franklin</td>\n",
       "      <td>Email: rhythmic.franklin@email.edu</td>\n",
       "      <td>2023-03-28</td>\n",
       "      <td>NaN</td>\n",
       "      <td>2.99</td>\n",
       "      <td>No</td>\n",
       "      <td>NaT</td>\n",
       "    </tr>\n",
       "  </tbody>\n",
       "</table>\n",
       "</div>"
      ],
      "text/plain": [
       "    Customer ID    Customer Name                               Email  \\\n",
       "1          5002        Aria Keys     Email: melodious.aria@email.edu   \n",
       "2          5004       Lyric Bell   Email: rhythmical.lyric@email.com   \n",
       "4          5338     Rhythm Dixon    Email: beats.by.rhythm@email.edu   \n",
       "5          5404      Jazz Saxton          Email: jazzy.sax@email.com   \n",
       "11         5827  Rhythm Franklin  Email: rhythmic.franklin@email.edu   \n",
       "\n",
       "   Member Since Subscription Plan  Subscription Rate Discount?  \\\n",
       "1    2023-03-13               NaN               2.99        No   \n",
       "2    2023-03-13               NaN               2.99        No   \n",
       "4    2023-03-20               NaN               2.99        No   \n",
       "5    2023-03-20               NaN               2.99        No   \n",
       "11   2023-03-28               NaN               2.99        No   \n",
       "\n",
       "   Cancellation Date  \n",
       "1                NaT  \n",
       "2         2023-06-01  \n",
       "4                NaT  \n",
       "5         2023-06-03  \n",
       "11               NaT  "
      ]
     },
     "execution_count": 22,
     "metadata": {},
     "output_type": "execute_result"
    }
   ],
   "source": [
    "df_customers[df_customers['Subscription Plan'].isnull()]"
   ]
  },
  {
   "cell_type": "code",
   "execution_count": 23,
   "metadata": {},
   "outputs": [],
   "source": [
    "df_customers['Subscription Plan'] = np.where(((df_customers['Subscription Plan'].isna()) & (df_customers['Subscription Rate'] == 2.99)), 'Basic (Ads)', df_customers['Subscription Plan'])"
   ]
  },
  {
   "cell_type": "markdown",
   "metadata": {},
   "source": [
    "#### ii. Inconsistent Text & Typos"
   ]
  },
  {
   "cell_type": "code",
   "execution_count": 24,
   "metadata": {},
   "outputs": [
    {
     "data": {
      "text/html": [
       "<div>\n",
       "<style scoped>\n",
       "    .dataframe tbody tr th:only-of-type {\n",
       "        vertical-align: middle;\n",
       "    }\n",
       "\n",
       "    .dataframe tbody tr th {\n",
       "        vertical-align: top;\n",
       "    }\n",
       "\n",
       "    .dataframe thead th {\n",
       "        text-align: right;\n",
       "    }\n",
       "</style>\n",
       "<table border=\"1\" class=\"dataframe\">\n",
       "  <thead>\n",
       "    <tr style=\"text-align: right;\">\n",
       "      <th></th>\n",
       "      <th>Customer ID</th>\n",
       "      <th>Member Since</th>\n",
       "      <th>Subscription Rate</th>\n",
       "      <th>Cancellation Date</th>\n",
       "    </tr>\n",
       "  </thead>\n",
       "  <tbody>\n",
       "    <tr>\n",
       "      <th>count</th>\n",
       "      <td>30.000000</td>\n",
       "      <td>30</td>\n",
       "      <td>30.000000</td>\n",
       "      <td>13</td>\n",
       "    </tr>\n",
       "    <tr>\n",
       "      <th>mean</th>\n",
       "      <td>6276.333333</td>\n",
       "      <td>2023-04-10 06:24:00</td>\n",
       "      <td>8.556667</td>\n",
       "      <td>2023-06-01 16:36:55.384615424</td>\n",
       "    </tr>\n",
       "    <tr>\n",
       "      <th>min</th>\n",
       "      <td>5001.000000</td>\n",
       "      <td>2023-03-13 00:00:00</td>\n",
       "      <td>2.990000</td>\n",
       "      <td>2023-06-01 00:00:00</td>\n",
       "    </tr>\n",
       "    <tr>\n",
       "      <th>25%</th>\n",
       "      <td>5759.500000</td>\n",
       "      <td>2023-03-23 12:00:00</td>\n",
       "      <td>2.990000</td>\n",
       "      <td>2023-06-01 00:00:00</td>\n",
       "    </tr>\n",
       "    <tr>\n",
       "      <th>50%</th>\n",
       "      <td>6196.000000</td>\n",
       "      <td>2023-04-05 12:00:00</td>\n",
       "      <td>2.990000</td>\n",
       "      <td>2023-06-02 00:00:00</td>\n",
       "    </tr>\n",
       "    <tr>\n",
       "      <th>75%</th>\n",
       "      <td>6823.500000</td>\n",
       "      <td>2023-05-01 00:00:00</td>\n",
       "      <td>7.990000</td>\n",
       "      <td>2023-06-02 00:00:00</td>\n",
       "    </tr>\n",
       "    <tr>\n",
       "      <th>max</th>\n",
       "      <td>7583.000000</td>\n",
       "      <td>2023-05-16 00:00:00</td>\n",
       "      <td>99.990000</td>\n",
       "      <td>2023-06-03 00:00:00</td>\n",
       "    </tr>\n",
       "    <tr>\n",
       "      <th>std</th>\n",
       "      <td>814.255587</td>\n",
       "      <td>NaN</td>\n",
       "      <td>17.517840</td>\n",
       "      <td>NaN</td>\n",
       "    </tr>\n",
       "  </tbody>\n",
       "</table>\n",
       "</div>"
      ],
      "text/plain": [
       "       Customer ID         Member Since  Subscription Rate  \\\n",
       "count    30.000000                   30          30.000000   \n",
       "mean   6276.333333  2023-04-10 06:24:00           8.556667   \n",
       "min    5001.000000  2023-03-13 00:00:00           2.990000   \n",
       "25%    5759.500000  2023-03-23 12:00:00           2.990000   \n",
       "50%    6196.000000  2023-04-05 12:00:00           2.990000   \n",
       "75%    6823.500000  2023-05-01 00:00:00           7.990000   \n",
       "max    7583.000000  2023-05-16 00:00:00          99.990000   \n",
       "std     814.255587                  NaN          17.517840   \n",
       "\n",
       "                   Cancellation Date  \n",
       "count                             13  \n",
       "mean   2023-06-01 16:36:55.384615424  \n",
       "min              2023-06-01 00:00:00  \n",
       "25%              2023-06-01 00:00:00  \n",
       "50%              2023-06-02 00:00:00  \n",
       "75%              2023-06-02 00:00:00  \n",
       "max              2023-06-03 00:00:00  \n",
       "std                              NaN  "
      ]
     },
     "execution_count": 24,
     "metadata": {},
     "output_type": "execute_result"
    }
   ],
   "source": [
    "# Look for inconsistent text & typos\n",
    "df_customers.describe()"
   ]
  },
  {
   "cell_type": "code",
   "execution_count": 25,
   "metadata": {},
   "outputs": [
    {
     "data": {
      "text/plain": [
       "Subscription Rate\n",
       "2.99     17\n",
       "7.99      7\n",
       "9.99      5\n",
       "99.99     1\n",
       "Name: count, dtype: int64"
      ]
     },
     "execution_count": 25,
     "metadata": {},
     "output_type": "execute_result"
    }
   ],
   "source": [
    "df_customers['Subscription Rate'].value_counts()"
   ]
  },
  {
   "cell_type": "code",
   "execution_count": 26,
   "metadata": {},
   "outputs": [],
   "source": [
    "df_customers['Subscription Rate'] = np.where(df_customers['Subscription Rate'] == 99.99, 9.99, df_customers['Subscription Rate'])"
   ]
  },
  {
   "cell_type": "code",
   "execution_count": 27,
   "metadata": {},
   "outputs": [
    {
     "data": {
      "text/html": [
       "<div>\n",
       "<style scoped>\n",
       "    .dataframe tbody tr th:only-of-type {\n",
       "        vertical-align: middle;\n",
       "    }\n",
       "\n",
       "    .dataframe tbody tr th {\n",
       "        vertical-align: top;\n",
       "    }\n",
       "\n",
       "    .dataframe thead th {\n",
       "        text-align: right;\n",
       "    }\n",
       "</style>\n",
       "<table border=\"1\" class=\"dataframe\">\n",
       "  <thead>\n",
       "    <tr style=\"text-align: right;\">\n",
       "      <th></th>\n",
       "      <th>Customer ID</th>\n",
       "      <th>Session ID</th>\n",
       "      <th>Audio Order</th>\n",
       "      <th>Audio ID</th>\n",
       "    </tr>\n",
       "  </thead>\n",
       "  <tbody>\n",
       "    <tr>\n",
       "      <th>count</th>\n",
       "      <td>505.000000</td>\n",
       "      <td>505.000000</td>\n",
       "      <td>505.000000</td>\n",
       "      <td>505.000000</td>\n",
       "    </tr>\n",
       "    <tr>\n",
       "      <th>mean</th>\n",
       "      <td>6112.247525</td>\n",
       "      <td>105225.554455</td>\n",
       "      <td>4.138614</td>\n",
       "      <td>112.063366</td>\n",
       "    </tr>\n",
       "    <tr>\n",
       "      <th>std</th>\n",
       "      <td>832.861221</td>\n",
       "      <td>3625.879577</td>\n",
       "      <td>2.669008</td>\n",
       "      <td>24.670285</td>\n",
       "    </tr>\n",
       "    <tr>\n",
       "      <th>min</th>\n",
       "      <td>5001.000000</td>\n",
       "      <td>100520.000000</td>\n",
       "      <td>1.000000</td>\n",
       "      <td>101.000000</td>\n",
       "    </tr>\n",
       "    <tr>\n",
       "      <th>25%</th>\n",
       "      <td>5267.000000</td>\n",
       "      <td>101925.000000</td>\n",
       "      <td>2.000000</td>\n",
       "      <td>103.000000</td>\n",
       "    </tr>\n",
       "    <tr>\n",
       "      <th>50%</th>\n",
       "      <td>6029.000000</td>\n",
       "      <td>105116.000000</td>\n",
       "      <td>4.000000</td>\n",
       "      <td>105.000000</td>\n",
       "    </tr>\n",
       "    <tr>\n",
       "      <th>75%</th>\n",
       "      <td>6822.000000</td>\n",
       "      <td>109654.000000</td>\n",
       "      <td>6.000000</td>\n",
       "      <td>109.000000</td>\n",
       "    </tr>\n",
       "    <tr>\n",
       "      <th>max</th>\n",
       "      <td>7583.000000</td>\n",
       "      <td>111333.000000</td>\n",
       "      <td>15.000000</td>\n",
       "      <td>205.000000</td>\n",
       "    </tr>\n",
       "  </tbody>\n",
       "</table>\n",
       "</div>"
      ],
      "text/plain": [
       "       Customer ID     Session ID  Audio Order    Audio ID\n",
       "count   505.000000     505.000000   505.000000  505.000000\n",
       "mean   6112.247525  105225.554455     4.138614  112.063366\n",
       "std     832.861221    3625.879577     2.669008   24.670285\n",
       "min    5001.000000  100520.000000     1.000000  101.000000\n",
       "25%    5267.000000  101925.000000     2.000000  103.000000\n",
       "50%    6029.000000  105116.000000     4.000000  105.000000\n",
       "75%    6822.000000  109654.000000     6.000000  109.000000\n",
       "max    7583.000000  111333.000000    15.000000  205.000000"
      ]
     },
     "execution_count": 27,
     "metadata": {},
     "output_type": "execute_result"
    }
   ],
   "source": [
    "df_listen_history.describe()"
   ]
  },
  {
   "cell_type": "code",
   "execution_count": 28,
   "metadata": {},
   "outputs": [
    {
     "data": {
      "text/html": [
       "<div>\n",
       "<style scoped>\n",
       "    .dataframe tbody tr th:only-of-type {\n",
       "        vertical-align: middle;\n",
       "    }\n",
       "\n",
       "    .dataframe tbody tr th {\n",
       "        vertical-align: top;\n",
       "    }\n",
       "\n",
       "    .dataframe thead th {\n",
       "        text-align: right;\n",
       "    }\n",
       "</style>\n",
       "<table border=\"1\" class=\"dataframe\">\n",
       "  <thead>\n",
       "    <tr style=\"text-align: right;\">\n",
       "      <th></th>\n",
       "      <th>Popularity</th>\n",
       "    </tr>\n",
       "  </thead>\n",
       "  <tbody>\n",
       "    <tr>\n",
       "      <th>count</th>\n",
       "      <td>17.000000</td>\n",
       "    </tr>\n",
       "    <tr>\n",
       "      <th>mean</th>\n",
       "      <td>21.058824</td>\n",
       "    </tr>\n",
       "    <tr>\n",
       "      <th>std</th>\n",
       "      <td>23.381271</td>\n",
       "    </tr>\n",
       "    <tr>\n",
       "      <th>min</th>\n",
       "      <td>1.000000</td>\n",
       "    </tr>\n",
       "    <tr>\n",
       "      <th>25%</th>\n",
       "      <td>4.000000</td>\n",
       "    </tr>\n",
       "    <tr>\n",
       "      <th>50%</th>\n",
       "      <td>10.000000</td>\n",
       "    </tr>\n",
       "    <tr>\n",
       "      <th>75%</th>\n",
       "      <td>28.000000</td>\n",
       "    </tr>\n",
       "    <tr>\n",
       "      <th>max</th>\n",
       "      <td>80.000000</td>\n",
       "    </tr>\n",
       "  </tbody>\n",
       "</table>\n",
       "</div>"
      ],
      "text/plain": [
       "       Popularity\n",
       "count   17.000000\n",
       "mean    21.058824\n",
       "std     23.381271\n",
       "min      1.000000\n",
       "25%      4.000000\n",
       "50%     10.000000\n",
       "75%     28.000000\n",
       "max     80.000000"
      ]
     },
     "execution_count": 28,
     "metadata": {},
     "output_type": "execute_result"
    }
   ],
   "source": [
    "df_audio.describe()"
   ]
  },
  {
   "cell_type": "code",
   "execution_count": 29,
   "metadata": {},
   "outputs": [
    {
     "data": {
      "text/html": [
       "<div>\n",
       "<style scoped>\n",
       "    .dataframe tbody tr th:only-of-type {\n",
       "        vertical-align: middle;\n",
       "    }\n",
       "\n",
       "    .dataframe tbody tr th {\n",
       "        vertical-align: top;\n",
       "    }\n",
       "\n",
       "    .dataframe thead th {\n",
       "        text-align: right;\n",
       "    }\n",
       "</style>\n",
       "<table border=\"1\" class=\"dataframe\">\n",
       "  <thead>\n",
       "    <tr style=\"text-align: right;\">\n",
       "      <th></th>\n",
       "      <th>Session ID</th>\n",
       "      <th>Session Log In Time</th>\n",
       "    </tr>\n",
       "  </thead>\n",
       "  <tbody>\n",
       "    <tr>\n",
       "      <th>count</th>\n",
       "      <td>90.000000</td>\n",
       "      <td>90</td>\n",
       "    </tr>\n",
       "    <tr>\n",
       "      <th>mean</th>\n",
       "      <td>105619.788889</td>\n",
       "      <td>2023-04-27 08:18:34.000000512</td>\n",
       "    </tr>\n",
       "    <tr>\n",
       "      <th>min</th>\n",
       "      <td>100520.000000</td>\n",
       "      <td>2023-03-13 14:14:00</td>\n",
       "    </tr>\n",
       "    <tr>\n",
       "      <th>25%</th>\n",
       "      <td>102149.000000</td>\n",
       "      <td>2023-04-05 21:21:30</td>\n",
       "    </tr>\n",
       "    <tr>\n",
       "      <th>50%</th>\n",
       "      <td>105390.500000</td>\n",
       "      <td>2023-05-03 20:03:00</td>\n",
       "    </tr>\n",
       "    <tr>\n",
       "      <th>75%</th>\n",
       "      <td>109658.250000</td>\n",
       "      <td>2023-05-18 22:17:30</td>\n",
       "    </tr>\n",
       "    <tr>\n",
       "      <th>max</th>\n",
       "      <td>111333.000000</td>\n",
       "      <td>2023-05-31 06:03:00</td>\n",
       "    </tr>\n",
       "    <tr>\n",
       "      <th>std</th>\n",
       "      <td>3616.208569</td>\n",
       "      <td>NaN</td>\n",
       "    </tr>\n",
       "  </tbody>\n",
       "</table>\n",
       "</div>"
      ],
      "text/plain": [
       "          Session ID            Session Log In Time\n",
       "count      90.000000                             90\n",
       "mean   105619.788889  2023-04-27 08:18:34.000000512\n",
       "min    100520.000000            2023-03-13 14:14:00\n",
       "25%    102149.000000            2023-04-05 21:21:30\n",
       "50%    105390.500000            2023-05-03 20:03:00\n",
       "75%    109658.250000            2023-05-18 22:17:30\n",
       "max    111333.000000            2023-05-31 06:03:00\n",
       "std      3616.208569                            NaN"
      ]
     },
     "execution_count": 29,
     "metadata": {},
     "output_type": "execute_result"
    }
   ],
   "source": [
    "df_session.describe()"
   ]
  },
  {
   "cell_type": "code",
   "execution_count": 30,
   "metadata": {},
   "outputs": [],
   "source": [
    "df_audio.Genre = np.where(df_audio.Genre == 'Pop Music','Pop',df_audio.Genre)"
   ]
  },
  {
   "cell_type": "code",
   "execution_count": 31,
   "metadata": {},
   "outputs": [
    {
     "data": {
      "text/html": [
       "<div>\n",
       "<style scoped>\n",
       "    .dataframe tbody tr th:only-of-type {\n",
       "        vertical-align: middle;\n",
       "    }\n",
       "\n",
       "    .dataframe tbody tr th {\n",
       "        vertical-align: top;\n",
       "    }\n",
       "\n",
       "    .dataframe thead th {\n",
       "        text-align: right;\n",
       "    }\n",
       "</style>\n",
       "<table border=\"1\" class=\"dataframe\">\n",
       "  <thead>\n",
       "    <tr style=\"text-align: right;\">\n",
       "      <th></th>\n",
       "      <th>ID</th>\n",
       "      <th>Name</th>\n",
       "      <th>Genre</th>\n",
       "      <th>Popularity</th>\n",
       "    </tr>\n",
       "  </thead>\n",
       "  <tbody>\n",
       "    <tr>\n",
       "      <th>0</th>\n",
       "      <td>Song-101</td>\n",
       "      <td>Dance All Night</td>\n",
       "      <td>Pop</td>\n",
       "      <td>1</td>\n",
       "    </tr>\n",
       "    <tr>\n",
       "      <th>1</th>\n",
       "      <td>Song-102</td>\n",
       "      <td>Unbreakable Beat</td>\n",
       "      <td>Pop</td>\n",
       "      <td>2</td>\n",
       "    </tr>\n",
       "    <tr>\n",
       "      <th>2</th>\n",
       "      <td>Song-103</td>\n",
       "      <td>Sunset Boulevard</td>\n",
       "      <td>Pop</td>\n",
       "      <td>5</td>\n",
       "    </tr>\n",
       "    <tr>\n",
       "      <th>3</th>\n",
       "      <td>Song-104</td>\n",
       "      <td>Glowing Hearts</td>\n",
       "      <td>Pop</td>\n",
       "      <td>10</td>\n",
       "    </tr>\n",
       "    <tr>\n",
       "      <th>4</th>\n",
       "      <td>Song-105</td>\n",
       "      <td>Pop Rocks</td>\n",
       "      <td>Pop</td>\n",
       "      <td>52</td>\n",
       "    </tr>\n",
       "  </tbody>\n",
       "</table>\n",
       "</div>"
      ],
      "text/plain": [
       "         ID              Name Genre  Popularity\n",
       "0  Song-101   Dance All Night   Pop           1\n",
       "1  Song-102  Unbreakable Beat   Pop           2\n",
       "2  Song-103  Sunset Boulevard   Pop           5\n",
       "3  Song-104    Glowing Hearts   Pop          10\n",
       "4  Song-105         Pop Rocks   Pop          52"
      ]
     },
     "execution_count": 31,
     "metadata": {},
     "output_type": "execute_result"
    }
   ],
   "source": [
    "df_audio.head()"
   ]
  },
  {
   "cell_type": "markdown",
   "metadata": {},
   "source": [
    "#### iii. Duplicate Rows"
   ]
  },
  {
   "cell_type": "code",
   "execution_count": 32,
   "metadata": {},
   "outputs": [
    {
     "data": {
      "text/plain": [
       "0"
      ]
     },
     "execution_count": 32,
     "metadata": {},
     "output_type": "execute_result"
    }
   ],
   "source": [
    "# Look for duplicate rows\n",
    "df_customers.duplicated().sum()"
   ]
  },
  {
   "cell_type": "code",
   "execution_count": 33,
   "metadata": {},
   "outputs": [
    {
     "data": {
      "text/plain": [
       "0"
      ]
     },
     "execution_count": 33,
     "metadata": {},
     "output_type": "execute_result"
    }
   ],
   "source": [
    "df_listen_history.duplicated().sum()"
   ]
  },
  {
   "cell_type": "code",
   "execution_count": 34,
   "metadata": {},
   "outputs": [
    {
     "data": {
      "text/plain": [
       "0"
      ]
     },
     "execution_count": 34,
     "metadata": {},
     "output_type": "execute_result"
    }
   ],
   "source": [
    "df_audio.duplicated().sum()"
   ]
  },
  {
   "cell_type": "code",
   "execution_count": 35,
   "metadata": {},
   "outputs": [
    {
     "data": {
      "text/plain": [
       "0"
      ]
     },
     "execution_count": 35,
     "metadata": {},
     "output_type": "execute_result"
    }
   ],
   "source": [
    "df_session.duplicated().sum()"
   ]
  },
  {
   "cell_type": "markdown",
   "metadata": {},
   "source": [
    "#### iv. Outliers"
   ]
  },
  {
   "cell_type": "code",
   "execution_count": 36,
   "metadata": {},
   "outputs": [],
   "source": [
    "# Look for outliers"
   ]
  },
  {
   "cell_type": "markdown",
   "metadata": {},
   "source": [
    "### c. Create New Columns"
   ]
  },
  {
   "cell_type": "markdown",
   "metadata": {},
   "source": [
    "Create two new columns that will be useful for EDA and modeling:\n",
    "* Cancelled: whether a customer cancelled or not\n",
    "* Email: Remove the \"Email:\" from the email addresses"
   ]
  },
  {
   "cell_type": "code",
   "execution_count": 37,
   "metadata": {},
   "outputs": [],
   "source": [
    "# Create a 'Cancelled' column\n",
    "df_customers['Cancelled'] = np.where(df_customers['Cancellation Date'].notna(),1,0)"
   ]
  },
  {
   "cell_type": "code",
   "execution_count": 38,
   "metadata": {},
   "outputs": [],
   "source": [
    "# Create an updated 'Email' column without the Email: portion\n",
    "df_customers['Email'] = df_customers['Email'].str[6:]"
   ]
  },
  {
   "cell_type": "code",
   "execution_count": 39,
   "metadata": {},
   "outputs": [],
   "source": [
    "# Create an updated 'Discount?' column with Yes=1 and No=0\n",
    "df_customers['Discount?'] = np.where(df_customers['Discount?'] == 'No', 0, 1)"
   ]
  },
  {
   "cell_type": "markdown",
   "metadata": {},
   "source": [
    "## 4. EDA"
   ]
  },
  {
   "cell_type": "markdown",
   "metadata": {},
   "source": [
    "Try to better understand the customers who cancelled:\n",
    "* How long were they members before they cancelled?\n",
    "* What percentage of customers who cancelled had a discount vs customers who didn't cancel?"
   ]
  },
  {
   "cell_type": "code",
   "execution_count": 40,
   "metadata": {},
   "outputs": [
    {
     "data": {
      "text/html": [
       "<div>\n",
       "<style scoped>\n",
       "    .dataframe tbody tr th:only-of-type {\n",
       "        vertical-align: middle;\n",
       "    }\n",
       "\n",
       "    .dataframe tbody tr th {\n",
       "        vertical-align: top;\n",
       "    }\n",
       "\n",
       "    .dataframe thead th {\n",
       "        text-align: right;\n",
       "    }\n",
       "</style>\n",
       "<table border=\"1\" class=\"dataframe\">\n",
       "  <thead>\n",
       "    <tr style=\"text-align: right;\">\n",
       "      <th></th>\n",
       "      <th>Customer ID</th>\n",
       "      <th>Customer Name</th>\n",
       "      <th>Email</th>\n",
       "      <th>Member Since</th>\n",
       "      <th>Subscription Plan</th>\n",
       "      <th>Subscription Rate</th>\n",
       "      <th>Discount?</th>\n",
       "      <th>Cancellation Date</th>\n",
       "      <th>Cancelled</th>\n",
       "    </tr>\n",
       "  </thead>\n",
       "  <tbody>\n",
       "    <tr>\n",
       "      <th>2</th>\n",
       "      <td>5004</td>\n",
       "      <td>Lyric Bell</td>\n",
       "      <td>rhythmical.lyric@email.com</td>\n",
       "      <td>2023-03-13</td>\n",
       "      <td>Basic (Ads)</td>\n",
       "      <td>2.99</td>\n",
       "      <td>0</td>\n",
       "      <td>2023-06-01</td>\n",
       "      <td>1</td>\n",
       "    </tr>\n",
       "    <tr>\n",
       "      <th>5</th>\n",
       "      <td>5404</td>\n",
       "      <td>Jazz Saxton</td>\n",
       "      <td>jazzy.sax@email.com</td>\n",
       "      <td>2023-03-20</td>\n",
       "      <td>Basic (Ads)</td>\n",
       "      <td>2.99</td>\n",
       "      <td>0</td>\n",
       "      <td>2023-06-03</td>\n",
       "      <td>1</td>\n",
       "    </tr>\n",
       "    <tr>\n",
       "      <th>7</th>\n",
       "      <td>5759</td>\n",
       "      <td>Carol Kingbird</td>\n",
       "      <td>songbird.carol@email.com</td>\n",
       "      <td>2023-03-22</td>\n",
       "      <td>Premium (No Ads)</td>\n",
       "      <td>9.99</td>\n",
       "      <td>0</td>\n",
       "      <td>2023-06-02</td>\n",
       "      <td>1</td>\n",
       "    </tr>\n",
       "    <tr>\n",
       "      <th>12</th>\n",
       "      <td>6029</td>\n",
       "      <td>Chord Campbell</td>\n",
       "      <td>campbell.chordify@email.com</td>\n",
       "      <td>2023-03-29</td>\n",
       "      <td>Premium (No Ads)</td>\n",
       "      <td>9.99</td>\n",
       "      <td>0</td>\n",
       "      <td>2023-06-02</td>\n",
       "      <td>1</td>\n",
       "    </tr>\n",
       "    <tr>\n",
       "      <th>13</th>\n",
       "      <td>6092</td>\n",
       "      <td>Benny Beat</td>\n",
       "      <td>rhythmic.benny@email.com</td>\n",
       "      <td>2023-04-01</td>\n",
       "      <td>Basic (Ads)</td>\n",
       "      <td>2.99</td>\n",
       "      <td>0</td>\n",
       "      <td>2023-06-01</td>\n",
       "      <td>1</td>\n",
       "    </tr>\n",
       "    <tr>\n",
       "      <th>15</th>\n",
       "      <td>6229</td>\n",
       "      <td>Symphony Rhodes</td>\n",
       "      <td>rhodes.symphony@email.com</td>\n",
       "      <td>2023-04-06</td>\n",
       "      <td>Premium (No Ads)</td>\n",
       "      <td>9.99</td>\n",
       "      <td>0</td>\n",
       "      <td>2023-06-02</td>\n",
       "      <td>1</td>\n",
       "    </tr>\n",
       "    <tr>\n",
       "      <th>19</th>\n",
       "      <td>6588</td>\n",
       "      <td>Harmony Bass</td>\n",
       "      <td>bass.harmony@email.com</td>\n",
       "      <td>2023-04-16</td>\n",
       "      <td>Basic (Ads)</td>\n",
       "      <td>2.99</td>\n",
       "      <td>0</td>\n",
       "      <td>2023-06-01</td>\n",
       "      <td>1</td>\n",
       "    </tr>\n",
       "    <tr>\n",
       "      <th>22</th>\n",
       "      <td>6824</td>\n",
       "      <td>Greta Groove</td>\n",
       "      <td>groovy.greta@email.com</td>\n",
       "      <td>2023-05-01</td>\n",
       "      <td>Premium (No Ads)</td>\n",
       "      <td>7.99</td>\n",
       "      <td>1</td>\n",
       "      <td>2023-06-02</td>\n",
       "      <td>1</td>\n",
       "    </tr>\n",
       "    <tr>\n",
       "      <th>23</th>\n",
       "      <td>7087</td>\n",
       "      <td>Harmony Heart</td>\n",
       "      <td>heartfelt.harmony@email.com</td>\n",
       "      <td>2023-05-01</td>\n",
       "      <td>Premium (No Ads)</td>\n",
       "      <td>7.99</td>\n",
       "      <td>1</td>\n",
       "      <td>2023-06-02</td>\n",
       "      <td>1</td>\n",
       "    </tr>\n",
       "    <tr>\n",
       "      <th>25</th>\n",
       "      <td>7224</td>\n",
       "      <td>Melody Fitzgerald</td>\n",
       "      <td>fitzgerald.melody@email.com</td>\n",
       "      <td>2023-05-08</td>\n",
       "      <td>Premium (No Ads)</td>\n",
       "      <td>7.99</td>\n",
       "      <td>1</td>\n",
       "      <td>2023-06-01</td>\n",
       "      <td>1</td>\n",
       "    </tr>\n",
       "    <tr>\n",
       "      <th>26</th>\n",
       "      <td>7401</td>\n",
       "      <td>Reed Murphy</td>\n",
       "      <td>murphy.reed.music@email.com</td>\n",
       "      <td>2023-05-08</td>\n",
       "      <td>Premium (No Ads)</td>\n",
       "      <td>7.99</td>\n",
       "      <td>1</td>\n",
       "      <td>2023-06-01</td>\n",
       "      <td>1</td>\n",
       "    </tr>\n",
       "    <tr>\n",
       "      <th>28</th>\n",
       "      <td>7581</td>\n",
       "      <td>Lyric Keys</td>\n",
       "      <td>keysoflyric@email.com</td>\n",
       "      <td>2023-05-16</td>\n",
       "      <td>Premium (No Ads)</td>\n",
       "      <td>7.99</td>\n",
       "      <td>1</td>\n",
       "      <td>2023-06-03</td>\n",
       "      <td>1</td>\n",
       "    </tr>\n",
       "    <tr>\n",
       "      <th>29</th>\n",
       "      <td>7583</td>\n",
       "      <td>Melody Singer</td>\n",
       "      <td>melodic.singer@email.com</td>\n",
       "      <td>2023-05-16</td>\n",
       "      <td>Premium (No Ads)</td>\n",
       "      <td>7.99</td>\n",
       "      <td>1</td>\n",
       "      <td>2023-06-01</td>\n",
       "      <td>1</td>\n",
       "    </tr>\n",
       "  </tbody>\n",
       "</table>\n",
       "</div>"
      ],
      "text/plain": [
       "    Customer ID      Customer Name                         Email Member Since  \\\n",
       "2          5004         Lyric Bell    rhythmical.lyric@email.com   2023-03-13   \n",
       "5          5404        Jazz Saxton           jazzy.sax@email.com   2023-03-20   \n",
       "7          5759     Carol Kingbird      songbird.carol@email.com   2023-03-22   \n",
       "12         6029     Chord Campbell   campbell.chordify@email.com   2023-03-29   \n",
       "13         6092         Benny Beat      rhythmic.benny@email.com   2023-04-01   \n",
       "15         6229    Symphony Rhodes     rhodes.symphony@email.com   2023-04-06   \n",
       "19         6588       Harmony Bass        bass.harmony@email.com   2023-04-16   \n",
       "22         6824       Greta Groove        groovy.greta@email.com   2023-05-01   \n",
       "23         7087      Harmony Heart   heartfelt.harmony@email.com   2023-05-01   \n",
       "25         7224  Melody Fitzgerald   fitzgerald.melody@email.com   2023-05-08   \n",
       "26         7401        Reed Murphy   murphy.reed.music@email.com   2023-05-08   \n",
       "28         7581         Lyric Keys         keysoflyric@email.com   2023-05-16   \n",
       "29         7583      Melody Singer      melodic.singer@email.com   2023-05-16   \n",
       "\n",
       "   Subscription Plan  Subscription Rate  Discount? Cancellation Date  \\\n",
       "2        Basic (Ads)               2.99          0        2023-06-01   \n",
       "5        Basic (Ads)               2.99          0        2023-06-03   \n",
       "7   Premium (No Ads)               9.99          0        2023-06-02   \n",
       "12  Premium (No Ads)               9.99          0        2023-06-02   \n",
       "13       Basic (Ads)               2.99          0        2023-06-01   \n",
       "15  Premium (No Ads)               9.99          0        2023-06-02   \n",
       "19       Basic (Ads)               2.99          0        2023-06-01   \n",
       "22  Premium (No Ads)               7.99          1        2023-06-02   \n",
       "23  Premium (No Ads)               7.99          1        2023-06-02   \n",
       "25  Premium (No Ads)               7.99          1        2023-06-01   \n",
       "26  Premium (No Ads)               7.99          1        2023-06-01   \n",
       "28  Premium (No Ads)               7.99          1        2023-06-03   \n",
       "29  Premium (No Ads)               7.99          1        2023-06-01   \n",
       "\n",
       "    Cancelled  \n",
       "2           1  \n",
       "5           1  \n",
       "7           1  \n",
       "12          1  \n",
       "13          1  \n",
       "15          1  \n",
       "19          1  \n",
       "22          1  \n",
       "23          1  \n",
       "25          1  \n",
       "26          1  \n",
       "28          1  \n",
       "29          1  "
      ]
     },
     "execution_count": 40,
     "metadata": {},
     "output_type": "execute_result"
    }
   ],
   "source": [
    "df_customers[df_customers['Cancellation Date'].notna()]"
   ]
  },
  {
   "cell_type": "code",
   "execution_count": 41,
   "metadata": {},
   "outputs": [
    {
     "data": {
      "text/plain": [
       "Timedelta('46 days 07:23:04.615384615')"
      ]
     },
     "execution_count": 41,
     "metadata": {},
     "output_type": "execute_result"
    }
   ],
   "source": [
    "# How long were customers members before they cancelled?\n",
    "time_before_cancel =  (df_customers['Cancellation Date'] - df_customers['Member Since']).mean()\n",
    "time_before_cancel"
   ]
  },
  {
   "cell_type": "code",
   "execution_count": 42,
   "metadata": {},
   "outputs": [
    {
     "data": {
      "text/plain": [
       "85.71428571428571"
      ]
     },
     "execution_count": 42,
     "metadata": {},
     "output_type": "execute_result"
    }
   ],
   "source": [
    "# Cancellation rate for those who had a discount\n",
    "\n",
    "discount_cancelled = df_customers[df_customers['Discount?'] == 1]\n",
    "discount_cancelled.Cancelled.sum()/discount_cancelled.Cancelled.count()*100"
   ]
  },
  {
   "cell_type": "code",
   "execution_count": 43,
   "metadata": {},
   "outputs": [
    {
     "data": {
      "text/plain": [
       "30.434782608695656"
      ]
     },
     "execution_count": 43,
     "metadata": {},
     "output_type": "execute_result"
    }
   ],
   "source": [
    "# Cancellation rate for those who did not have a discount\n",
    "no_discount_cancelled = df_customers[df_customers['Discount?'] == 0]\n",
    "no_discount_cancelled.Cancelled.sum()/no_discount_cancelled.Cancelled.count()*100"
   ]
  },
  {
   "cell_type": "code",
   "execution_count": 44,
   "metadata": {},
   "outputs": [
    {
     "data": {
      "image/png": "[encoded data removed]",
      "text/plain": [
       "<Figure size 640x480 with 1 Axes>"
      ]
     },
     "metadata": {},
     "output_type": "display_data"
    }
   ],
   "source": [
    "# Visualize the cancellation rate for those with a discount vs those without a discount\n",
    "pd.DataFrame([[\"Yes\" ,85.71428571428571],\n",
    "             [\"No\",30.434782608695656]],\n",
    "            columns = [\"Discount?\",\"Percentage Cancelled\"]).plot.bar(x = \"Discount?\",y = \"Percentage Cancelled\", color = \"blue\");\n",
    "plt.xticks(rotation = 0);\n",
    "\n"
   ]
  },
  {
   "cell_type": "markdown",
   "metadata": {},
   "source": [
    "Better understand the customers' listening histories:\n",
    "* Join together the listening history and audio tables\n",
    "* How many listening sessions did each customer have in the past 3 months?\n",
    "* What were the most popular genres that customers listened to?"
   ]
  },
  {
   "cell_type": "code",
   "execution_count": 45,
   "metadata": {},
   "outputs": [
    {
     "data": {
      "text/html": [
       "<div>\n",
       "<style scoped>\n",
       "    .dataframe tbody tr th:only-of-type {\n",
       "        vertical-align: middle;\n",
       "    }\n",
       "\n",
       "    .dataframe tbody tr th {\n",
       "        vertical-align: top;\n",
       "    }\n",
       "\n",
       "    .dataframe thead th {\n",
       "        text-align: right;\n",
       "    }\n",
       "</style>\n",
       "<table border=\"1\" class=\"dataframe\">\n",
       "  <thead>\n",
       "    <tr style=\"text-align: right;\">\n",
       "      <th></th>\n",
       "      <th>Type</th>\n",
       "      <th>New_Id</th>\n",
       "      <th>ID</th>\n",
       "      <th>Name</th>\n",
       "      <th>Genre</th>\n",
       "      <th>Popularity</th>\n",
       "    </tr>\n",
       "  </thead>\n",
       "  <tbody>\n",
       "    <tr>\n",
       "      <th>0</th>\n",
       "      <td>Song</td>\n",
       "      <td>101</td>\n",
       "      <td>Song-101</td>\n",
       "      <td>Dance All Night</td>\n",
       "      <td>Pop</td>\n",
       "      <td>1</td>\n",
       "    </tr>\n",
       "    <tr>\n",
       "      <th>1</th>\n",
       "      <td>Song</td>\n",
       "      <td>102</td>\n",
       "      <td>Song-102</td>\n",
       "      <td>Unbreakable Beat</td>\n",
       "      <td>Pop</td>\n",
       "      <td>2</td>\n",
       "    </tr>\n",
       "    <tr>\n",
       "      <th>2</th>\n",
       "      <td>Song</td>\n",
       "      <td>103</td>\n",
       "      <td>Song-103</td>\n",
       "      <td>Sunset Boulevard</td>\n",
       "      <td>Pop</td>\n",
       "      <td>5</td>\n",
       "    </tr>\n",
       "    <tr>\n",
       "      <th>3</th>\n",
       "      <td>Song</td>\n",
       "      <td>104</td>\n",
       "      <td>Song-104</td>\n",
       "      <td>Glowing Hearts</td>\n",
       "      <td>Pop</td>\n",
       "      <td>10</td>\n",
       "    </tr>\n",
       "    <tr>\n",
       "      <th>4</th>\n",
       "      <td>Song</td>\n",
       "      <td>105</td>\n",
       "      <td>Song-105</td>\n",
       "      <td>Pop Rocks</td>\n",
       "      <td>Pop</td>\n",
       "      <td>52</td>\n",
       "    </tr>\n",
       "  </tbody>\n",
       "</table>\n",
       "</div>"
      ],
      "text/plain": [
       "   Type New_Id        ID              Name Genre  Popularity\n",
       "0  Song    101  Song-101   Dance All Night   Pop           1\n",
       "1  Song    102  Song-102  Unbreakable Beat   Pop           2\n",
       "2  Song    103  Song-103  Sunset Boulevard   Pop           5\n",
       "3  Song    104  Song-104    Glowing Hearts   Pop          10\n",
       "4  Song    105  Song-105         Pop Rocks   Pop          52"
      ]
     },
     "execution_count": 45,
     "metadata": {},
     "output_type": "execute_result"
    }
   ],
   "source": [
    "# Split the ID in the audio data so the column can be joined with other tables\n",
    "temp_audio = pd.DataFrame(df_audio.ID.str.split('-').to_list()).rename(columns = {0: 'Type',1: 'New_Id'})\n",
    "new_audio = pd.concat([temp_audio,df_audio], axis = 1)\n",
    "new_audio.head()"
   ]
  },
  {
   "cell_type": "code",
   "execution_count": 46,
   "metadata": {},
   "outputs": [],
   "source": [
    "# Hint: Check the data type of Audio ID in the audio table\n",
    "new_audio.dtypes\n",
    "new_audio.New_Id = pd.to_numeric(new_audio.New_Id)"
   ]
  },
  {
   "cell_type": "code",
   "execution_count": 47,
   "metadata": {},
   "outputs": [
    {
     "data": {
      "text/plain": [
       "Type          object\n",
       "New_Id         int64\n",
       "ID            object\n",
       "Name          object\n",
       "Genre         object\n",
       "Popularity     int64\n",
       "dtype: object"
      ]
     },
     "execution_count": 47,
     "metadata": {},
     "output_type": "execute_result"
    }
   ],
   "source": [
    "new_audio.dtypes"
   ]
  },
  {
   "cell_type": "code",
   "execution_count": 48,
   "metadata": {},
   "outputs": [
    {
     "data": {
      "text/plain": [
       "Customer ID\n",
       "5001    8\n",
       "5002    4\n",
       "5004    1\n",
       "5267    7\n",
       "5338    4\n",
       "5404    1\n",
       "5581    3\n",
       "5759    2\n",
       "5761    3\n",
       "5763    6\n",
       "5826    3\n",
       "5827    1\n",
       "6029    2\n",
       "6092    3\n",
       "6163    3\n",
       "6229    2\n",
       "6406    3\n",
       "6584    2\n",
       "6586    2\n",
       "6588    3\n",
       "6821    2\n",
       "6822    3\n",
       "6824    4\n",
       "7087    3\n",
       "7158    3\n",
       "7224    4\n",
       "7401    3\n",
       "7579    2\n",
       "7581    2\n",
       "7583    1\n",
       "Name: Session ID, dtype: int64"
      ]
     },
     "execution_count": 48,
     "metadata": {},
     "output_type": "execute_result"
    }
   ],
   "source": [
    "# The number of listening sessions that each customer had in the past 3 months\n",
    "df_listen_history.groupby('Customer ID')['Session ID'].nunique()"
   ]
  },
  {
   "cell_type": "code",
   "execution_count": 49,
   "metadata": {},
   "outputs": [
    {
     "data": {
      "text/html": [
       "<div>\n",
       "<style scoped>\n",
       "    .dataframe tbody tr th:only-of-type {\n",
       "        vertical-align: middle;\n",
       "    }\n",
       "\n",
       "    .dataframe tbody tr th {\n",
       "        vertical-align: top;\n",
       "    }\n",
       "\n",
       "    .dataframe thead th {\n",
       "        text-align: right;\n",
       "    }\n",
       "</style>\n",
       "<table border=\"1\" class=\"dataframe\">\n",
       "  <thead>\n",
       "    <tr style=\"text-align: right;\">\n",
       "      <th></th>\n",
       "      <th>Customer ID</th>\n",
       "      <th>Session ID</th>\n",
       "      <th>Audio Order</th>\n",
       "      <th>Audio ID</th>\n",
       "      <th>Audio Type</th>\n",
       "      <th>Type</th>\n",
       "      <th>New_Id</th>\n",
       "      <th>ID</th>\n",
       "      <th>Name</th>\n",
       "      <th>Genre</th>\n",
       "      <th>Popularity</th>\n",
       "    </tr>\n",
       "  </thead>\n",
       "  <tbody>\n",
       "    <tr>\n",
       "      <th>0</th>\n",
       "      <td>5001</td>\n",
       "      <td>100520</td>\n",
       "      <td>1</td>\n",
       "      <td>101</td>\n",
       "      <td>Song</td>\n",
       "      <td>Song</td>\n",
       "      <td>101</td>\n",
       "      <td>Song-101</td>\n",
       "      <td>Dance All Night</td>\n",
       "      <td>Pop</td>\n",
       "      <td>1</td>\n",
       "    </tr>\n",
       "    <tr>\n",
       "      <th>1</th>\n",
       "      <td>5001</td>\n",
       "      <td>100520</td>\n",
       "      <td>2</td>\n",
       "      <td>102</td>\n",
       "      <td>Song</td>\n",
       "      <td>Song</td>\n",
       "      <td>102</td>\n",
       "      <td>Song-102</td>\n",
       "      <td>Unbreakable Beat</td>\n",
       "      <td>Pop</td>\n",
       "      <td>2</td>\n",
       "    </tr>\n",
       "    <tr>\n",
       "      <th>2</th>\n",
       "      <td>5001</td>\n",
       "      <td>100520</td>\n",
       "      <td>3</td>\n",
       "      <td>103</td>\n",
       "      <td>Song</td>\n",
       "      <td>Song</td>\n",
       "      <td>103</td>\n",
       "      <td>Song-103</td>\n",
       "      <td>Sunset Boulevard</td>\n",
       "      <td>Pop</td>\n",
       "      <td>5</td>\n",
       "    </tr>\n",
       "    <tr>\n",
       "      <th>3</th>\n",
       "      <td>5001</td>\n",
       "      <td>100520</td>\n",
       "      <td>4</td>\n",
       "      <td>104</td>\n",
       "      <td>Song</td>\n",
       "      <td>Song</td>\n",
       "      <td>104</td>\n",
       "      <td>Song-104</td>\n",
       "      <td>Glowing Hearts</td>\n",
       "      <td>Pop</td>\n",
       "      <td>10</td>\n",
       "    </tr>\n",
       "    <tr>\n",
       "      <th>4</th>\n",
       "      <td>5001</td>\n",
       "      <td>100520</td>\n",
       "      <td>5</td>\n",
       "      <td>105</td>\n",
       "      <td>Song</td>\n",
       "      <td>Song</td>\n",
       "      <td>105</td>\n",
       "      <td>Song-105</td>\n",
       "      <td>Pop Rocks</td>\n",
       "      <td>Pop</td>\n",
       "      <td>52</td>\n",
       "    </tr>\n",
       "  </tbody>\n",
       "</table>\n",
       "</div>"
      ],
      "text/plain": [
       "   Customer ID  Session ID  Audio Order  Audio ID Audio Type  Type  New_Id  \\\n",
       "0         5001      100520            1       101       Song  Song     101   \n",
       "1         5001      100520            2       102       Song  Song     102   \n",
       "2         5001      100520            3       103       Song  Song     103   \n",
       "3         5001      100520            4       104       Song  Song     104   \n",
       "4         5001      100520            5       105       Song  Song     105   \n",
       "\n",
       "         ID              Name Genre  Popularity  \n",
       "0  Song-101   Dance All Night   Pop           1  \n",
       "1  Song-102  Unbreakable Beat   Pop           2  \n",
       "2  Song-103  Sunset Boulevard   Pop           5  \n",
       "3  Song-104    Glowing Hearts   Pop          10  \n",
       "4  Song-105         Pop Rocks   Pop          52  "
      ]
     },
     "execution_count": 49,
     "metadata": {},
     "output_type": "execute_result"
    }
   ],
   "source": [
    "# The most popular genres that customers listened to\n",
    "new_df = df_listen_history.merge(new_audio, how = 'left', left_on = 'Audio ID', right_on = 'New_Id')\n",
    "new_df.head()"
   ]
  },
  {
   "cell_type": "code",
   "execution_count": 50,
   "metadata": {},
   "outputs": [
    {
     "data": {
      "text/plain": [
       "Genre\n",
       "Pop           267\n",
       "Hip Hop        88\n",
       "Country        68\n",
       "Jazz           48\n",
       "Comedy         19\n",
       "True Crime     15\n",
       "Name: count, dtype: int64"
      ]
     },
     "execution_count": 50,
     "metadata": {},
     "output_type": "execute_result"
    }
   ],
   "source": [
    "new_df.Genre.value_counts()"
   ]
  },
  {
   "cell_type": "markdown",
   "metadata": {},
   "source": [
    "## 5. Prep for Modeling"
   ]
  },
  {
   "cell_type": "markdown",
   "metadata": {},
   "source": [
    "Create a DataFrame that is ready for modeling with each row representing a customer and the following numeric, non-null columns:\n",
    "* Customer ID\n",
    "* Whether a customer cancelled or not\n",
    "* Whether a customer received a discount or not\n",
    "* The number of listening sessions\n",
    "* Percent of listening history consisting of Pop\n",
    "* Percent of listening history consisting of Podcasts"
   ]
  },
  {
   "cell_type": "code",
   "execution_count": 51,
   "metadata": {},
   "outputs": [
    {
     "data": {
      "text/html": [
       "<div>\n",
       "<style scoped>\n",
       "    .dataframe tbody tr th:only-of-type {\n",
       "        vertical-align: middle;\n",
       "    }\n",
       "\n",
       "    .dataframe tbody tr th {\n",
       "        vertical-align: top;\n",
       "    }\n",
       "\n",
       "    .dataframe thead th {\n",
       "        text-align: right;\n",
       "    }\n",
       "</style>\n",
       "<table border=\"1\" class=\"dataframe\">\n",
       "  <thead>\n",
       "    <tr style=\"text-align: right;\">\n",
       "      <th></th>\n",
       "      <th>Customer ID</th>\n",
       "      <th>Cancelled</th>\n",
       "      <th>Discount?</th>\n",
       "    </tr>\n",
       "  </thead>\n",
       "  <tbody>\n",
       "    <tr>\n",
       "      <th>0</th>\n",
       "      <td>5001</td>\n",
       "      <td>0</td>\n",
       "      <td>0</td>\n",
       "    </tr>\n",
       "    <tr>\n",
       "      <th>1</th>\n",
       "      <td>5002</td>\n",
       "      <td>0</td>\n",
       "      <td>0</td>\n",
       "    </tr>\n",
       "    <tr>\n",
       "      <th>2</th>\n",
       "      <td>5004</td>\n",
       "      <td>1</td>\n",
       "      <td>0</td>\n",
       "    </tr>\n",
       "    <tr>\n",
       "      <th>3</th>\n",
       "      <td>5267</td>\n",
       "      <td>0</td>\n",
       "      <td>0</td>\n",
       "    </tr>\n",
       "    <tr>\n",
       "      <th>4</th>\n",
       "      <td>5338</td>\n",
       "      <td>0</td>\n",
       "      <td>0</td>\n",
       "    </tr>\n",
       "  </tbody>\n",
       "</table>\n",
       "</div>"
      ],
      "text/plain": [
       "   Customer ID  Cancelled  Discount?\n",
       "0         5001          0          0\n",
       "1         5002          0          0\n",
       "2         5004          1          0\n",
       "3         5267          0          0\n",
       "4         5338          0          0"
      ]
     },
     "execution_count": 51,
     "metadata": {},
     "output_type": "execute_result"
    }
   ],
   "source": [
    "# Create a dataframe ready for modeling\n",
    "model = df_customers[['Customer ID','Cancelled','Discount?']]\n",
    "model.head()"
   ]
  },
  {
   "cell_type": "code",
   "execution_count": 52,
   "metadata": {},
   "outputs": [
    {
     "data": {
      "text/plain": [
       "Customer ID\n",
       "5001    8\n",
       "5002    4\n",
       "5004    1\n",
       "5267    7\n",
       "5338    4\n",
       "Name: Session ID, dtype: int64"
      ]
     },
     "execution_count": 52,
     "metadata": {},
     "output_type": "execute_result"
    }
   ],
   "source": [
    "# Calculate the number of listening sessions for each customer\n",
    "number_of_listening_sessions = new_df.groupby('Customer ID')['Session ID'].nunique()\n",
    "number_of_listening_sessions.head()"
   ]
  },
  {
   "cell_type": "code",
   "execution_count": 53,
   "metadata": {},
   "outputs": [
    {
     "data": {
      "text/html": [
       "<div>\n",
       "<style scoped>\n",
       "    .dataframe tbody tr th:only-of-type {\n",
       "        vertical-align: middle;\n",
       "    }\n",
       "\n",
       "    .dataframe tbody tr th {\n",
       "        vertical-align: top;\n",
       "    }\n",
       "\n",
       "    .dataframe thead th {\n",
       "        text-align: right;\n",
       "    }\n",
       "</style>\n",
       "<table border=\"1\" class=\"dataframe\">\n",
       "  <thead>\n",
       "    <tr style=\"text-align: right;\">\n",
       "      <th></th>\n",
       "      <th>Customer ID</th>\n",
       "      <th>Total Sessions</th>\n",
       "    </tr>\n",
       "  </thead>\n",
       "  <tbody>\n",
       "    <tr>\n",
       "      <th>0</th>\n",
       "      <td>5001</td>\n",
       "      <td>8</td>\n",
       "    </tr>\n",
       "    <tr>\n",
       "      <th>1</th>\n",
       "      <td>5002</td>\n",
       "      <td>4</td>\n",
       "    </tr>\n",
       "    <tr>\n",
       "      <th>2</th>\n",
       "      <td>5004</td>\n",
       "      <td>1</td>\n",
       "    </tr>\n",
       "    <tr>\n",
       "      <th>3</th>\n",
       "      <td>5267</td>\n",
       "      <td>7</td>\n",
       "    </tr>\n",
       "    <tr>\n",
       "      <th>4</th>\n",
       "      <td>5338</td>\n",
       "      <td>4</td>\n",
       "    </tr>\n",
       "  </tbody>\n",
       "</table>\n",
       "</div>"
      ],
      "text/plain": [
       "   Customer ID  Total Sessions\n",
       "0         5001               8\n",
       "1         5002               4\n",
       "2         5004               1\n",
       "3         5267               7\n",
       "4         5338               4"
      ]
     },
     "execution_count": 53,
     "metadata": {},
     "output_type": "execute_result"
    }
   ],
   "source": [
    "number_of_listening_sessions = number_of_listening_sessions.to_frame().reset_index().rename(columns ={'Session ID' : 'Total Sessions'})\n",
    "number_of_listening_sessions.head()"
   ]
  },
  {
   "cell_type": "code",
   "execution_count": 54,
   "metadata": {},
   "outputs": [
    {
     "data": {
      "text/html": [
       "<div>\n",
       "<style scoped>\n",
       "    .dataframe tbody tr th:only-of-type {\n",
       "        vertical-align: middle;\n",
       "    }\n",
       "\n",
       "    .dataframe tbody tr th {\n",
       "        vertical-align: top;\n",
       "    }\n",
       "\n",
       "    .dataframe thead th {\n",
       "        text-align: right;\n",
       "    }\n",
       "</style>\n",
       "<table border=\"1\" class=\"dataframe\">\n",
       "  <thead>\n",
       "    <tr style=\"text-align: right;\">\n",
       "      <th></th>\n",
       "      <th>Customer ID</th>\n",
       "      <th>Cancelled</th>\n",
       "      <th>Discount?</th>\n",
       "      <th>Total Sessions</th>\n",
       "    </tr>\n",
       "  </thead>\n",
       "  <tbody>\n",
       "    <tr>\n",
       "      <th>0</th>\n",
       "      <td>5001</td>\n",
       "      <td>0</td>\n",
       "      <td>0</td>\n",
       "      <td>8</td>\n",
       "    </tr>\n",
       "    <tr>\n",
       "      <th>1</th>\n",
       "      <td>5002</td>\n",
       "      <td>0</td>\n",
       "      <td>0</td>\n",
       "      <td>4</td>\n",
       "    </tr>\n",
       "    <tr>\n",
       "      <th>2</th>\n",
       "      <td>5004</td>\n",
       "      <td>1</td>\n",
       "      <td>0</td>\n",
       "      <td>1</td>\n",
       "    </tr>\n",
       "    <tr>\n",
       "      <th>3</th>\n",
       "      <td>5267</td>\n",
       "      <td>0</td>\n",
       "      <td>0</td>\n",
       "      <td>7</td>\n",
       "    </tr>\n",
       "    <tr>\n",
       "      <th>4</th>\n",
       "      <td>5338</td>\n",
       "      <td>0</td>\n",
       "      <td>0</td>\n",
       "      <td>4</td>\n",
       "    </tr>\n",
       "  </tbody>\n",
       "</table>\n",
       "</div>"
      ],
      "text/plain": [
       "   Customer ID  Cancelled  Discount?  Total Sessions\n",
       "0         5001          0          0               8\n",
       "1         5002          0          0               4\n",
       "2         5004          1          0               1\n",
       "3         5267          0          0               7\n",
       "4         5338          0          0               4"
      ]
     },
     "execution_count": 54,
     "metadata": {},
     "output_type": "execute_result"
    }
   ],
   "source": [
    "model = model.merge(number_of_listening_sessions,how = 'left', on = 'Customer ID')\n",
    "model.head()"
   ]
  },
  {
   "cell_type": "code",
   "execution_count": 55,
   "metadata": {},
   "outputs": [
    {
     "data": {
      "text/html": [
       "<div>\n",
       "<style scoped>\n",
       "    .dataframe tbody tr th:only-of-type {\n",
       "        vertical-align: middle;\n",
       "    }\n",
       "\n",
       "    .dataframe tbody tr th {\n",
       "        vertical-align: top;\n",
       "    }\n",
       "\n",
       "    .dataframe thead th {\n",
       "        text-align: right;\n",
       "    }\n",
       "</style>\n",
       "<table border=\"1\" class=\"dataframe\">\n",
       "  <thead>\n",
       "    <tr style=\"text-align: right;\">\n",
       "      <th></th>\n",
       "      <th>Comedy</th>\n",
       "      <th>Country</th>\n",
       "      <th>Hip Hop</th>\n",
       "      <th>Jazz</th>\n",
       "      <th>Pop</th>\n",
       "      <th>True Crime</th>\n",
       "    </tr>\n",
       "  </thead>\n",
       "  <tbody>\n",
       "    <tr>\n",
       "      <th>0</th>\n",
       "      <td>0</td>\n",
       "      <td>0</td>\n",
       "      <td>0</td>\n",
       "      <td>0</td>\n",
       "      <td>1</td>\n",
       "      <td>0</td>\n",
       "    </tr>\n",
       "    <tr>\n",
       "      <th>1</th>\n",
       "      <td>0</td>\n",
       "      <td>0</td>\n",
       "      <td>0</td>\n",
       "      <td>0</td>\n",
       "      <td>1</td>\n",
       "      <td>0</td>\n",
       "    </tr>\n",
       "    <tr>\n",
       "      <th>2</th>\n",
       "      <td>0</td>\n",
       "      <td>0</td>\n",
       "      <td>0</td>\n",
       "      <td>0</td>\n",
       "      <td>1</td>\n",
       "      <td>0</td>\n",
       "    </tr>\n",
       "    <tr>\n",
       "      <th>3</th>\n",
       "      <td>0</td>\n",
       "      <td>0</td>\n",
       "      <td>0</td>\n",
       "      <td>0</td>\n",
       "      <td>1</td>\n",
       "      <td>0</td>\n",
       "    </tr>\n",
       "    <tr>\n",
       "      <th>4</th>\n",
       "      <td>0</td>\n",
       "      <td>0</td>\n",
       "      <td>0</td>\n",
       "      <td>0</td>\n",
       "      <td>1</td>\n",
       "      <td>0</td>\n",
       "    </tr>\n",
       "    <tr>\n",
       "      <th>...</th>\n",
       "      <td>...</td>\n",
       "      <td>...</td>\n",
       "      <td>...</td>\n",
       "      <td>...</td>\n",
       "      <td>...</td>\n",
       "      <td>...</td>\n",
       "    </tr>\n",
       "    <tr>\n",
       "      <th>500</th>\n",
       "      <td>0</td>\n",
       "      <td>0</td>\n",
       "      <td>0</td>\n",
       "      <td>1</td>\n",
       "      <td>0</td>\n",
       "      <td>0</td>\n",
       "    </tr>\n",
       "    <tr>\n",
       "      <th>501</th>\n",
       "      <td>1</td>\n",
       "      <td>0</td>\n",
       "      <td>0</td>\n",
       "      <td>0</td>\n",
       "      <td>0</td>\n",
       "      <td>0</td>\n",
       "    </tr>\n",
       "    <tr>\n",
       "      <th>502</th>\n",
       "      <td>0</td>\n",
       "      <td>0</td>\n",
       "      <td>1</td>\n",
       "      <td>0</td>\n",
       "      <td>0</td>\n",
       "      <td>0</td>\n",
       "    </tr>\n",
       "    <tr>\n",
       "      <th>503</th>\n",
       "      <td>0</td>\n",
       "      <td>0</td>\n",
       "      <td>1</td>\n",
       "      <td>0</td>\n",
       "      <td>0</td>\n",
       "      <td>0</td>\n",
       "    </tr>\n",
       "    <tr>\n",
       "      <th>504</th>\n",
       "      <td>0</td>\n",
       "      <td>0</td>\n",
       "      <td>1</td>\n",
       "      <td>0</td>\n",
       "      <td>0</td>\n",
       "      <td>0</td>\n",
       "    </tr>\n",
       "  </tbody>\n",
       "</table>\n",
       "<p>505 rows × 6 columns</p>\n",
       "</div>"
      ],
      "text/plain": [
       "     Comedy  Country  Hip Hop  Jazz  Pop  True Crime\n",
       "0         0        0        0     0    1           0\n",
       "1         0        0        0     0    1           0\n",
       "2         0        0        0     0    1           0\n",
       "3         0        0        0     0    1           0\n",
       "4         0        0        0     0    1           0\n",
       "..      ...      ...      ...   ...  ...         ...\n",
       "500       0        0        0     1    0           0\n",
       "501       1        0        0     0    0           0\n",
       "502       0        0        1     0    0           0\n",
       "503       0        0        1     0    0           0\n",
       "504       0        0        1     0    0           0\n",
       "\n",
       "[505 rows x 6 columns]"
      ]
     },
     "execution_count": 55,
     "metadata": {},
     "output_type": "execute_result"
    }
   ],
   "source": [
    "# Percent pop\n",
    "pd.get_dummies(new_df.Genre,dtype = int)"
   ]
  },
  {
   "cell_type": "code",
   "execution_count": 56,
   "metadata": {},
   "outputs": [
    {
     "data": {
      "text/html": [
       "<div>\n",
       "<style scoped>\n",
       "    .dataframe tbody tr th:only-of-type {\n",
       "        vertical-align: middle;\n",
       "    }\n",
       "\n",
       "    .dataframe tbody tr th {\n",
       "        vertical-align: top;\n",
       "    }\n",
       "\n",
       "    .dataframe thead th {\n",
       "        text-align: right;\n",
       "    }\n",
       "</style>\n",
       "<table border=\"1\" class=\"dataframe\">\n",
       "  <thead>\n",
       "    <tr style=\"text-align: right;\">\n",
       "      <th></th>\n",
       "      <th>Customer ID</th>\n",
       "      <th>Comedy</th>\n",
       "      <th>Country</th>\n",
       "      <th>Hip Hop</th>\n",
       "      <th>Jazz</th>\n",
       "      <th>Pop</th>\n",
       "      <th>True Crime</th>\n",
       "    </tr>\n",
       "  </thead>\n",
       "  <tbody>\n",
       "    <tr>\n",
       "      <th>0</th>\n",
       "      <td>5001</td>\n",
       "      <td>0</td>\n",
       "      <td>0</td>\n",
       "      <td>26</td>\n",
       "      <td>0</td>\n",
       "      <td>34</td>\n",
       "      <td>0</td>\n",
       "    </tr>\n",
       "    <tr>\n",
       "      <th>1</th>\n",
       "      <td>5002</td>\n",
       "      <td>0</td>\n",
       "      <td>22</td>\n",
       "      <td>0</td>\n",
       "      <td>0</td>\n",
       "      <td>0</td>\n",
       "      <td>0</td>\n",
       "    </tr>\n",
       "    <tr>\n",
       "      <th>2</th>\n",
       "      <td>5004</td>\n",
       "      <td>0</td>\n",
       "      <td>0</td>\n",
       "      <td>0</td>\n",
       "      <td>0</td>\n",
       "      <td>9</td>\n",
       "      <td>0</td>\n",
       "    </tr>\n",
       "    <tr>\n",
       "      <th>3</th>\n",
       "      <td>5267</td>\n",
       "      <td>0</td>\n",
       "      <td>0</td>\n",
       "      <td>22</td>\n",
       "      <td>0</td>\n",
       "      <td>23</td>\n",
       "      <td>0</td>\n",
       "    </tr>\n",
       "    <tr>\n",
       "      <th>4</th>\n",
       "      <td>5338</td>\n",
       "      <td>0</td>\n",
       "      <td>18</td>\n",
       "      <td>0</td>\n",
       "      <td>0</td>\n",
       "      <td>0</td>\n",
       "      <td>0</td>\n",
       "    </tr>\n",
       "  </tbody>\n",
       "</table>\n",
       "</div>"
      ],
      "text/plain": [
       "   Customer ID  Comedy  Country  Hip Hop  Jazz  Pop  True Crime\n",
       "0         5001       0        0       26     0   34           0\n",
       "1         5002       0       22        0     0    0           0\n",
       "2         5004       0        0        0     0    9           0\n",
       "3         5267       0        0       22     0   23           0\n",
       "4         5338       0       18        0     0    0           0"
      ]
     },
     "execution_count": 56,
     "metadata": {},
     "output_type": "execute_result"
    }
   ],
   "source": [
    "genre = pd.concat([new_df['Customer ID'],pd.get_dummies(new_df.Genre,dtype = int)], axis = 1).groupby('Customer ID').sum().reset_index()\n",
    "genre.head()"
   ]
  },
  {
   "cell_type": "code",
   "execution_count": 57,
   "metadata": {},
   "outputs": [
    {
     "data": {
      "text/html": [
       "<div>\n",
       "<style scoped>\n",
       "    .dataframe tbody tr th:only-of-type {\n",
       "        vertical-align: middle;\n",
       "    }\n",
       "\n",
       "    .dataframe tbody tr th {\n",
       "        vertical-align: top;\n",
       "    }\n",
       "\n",
       "    .dataframe thead th {\n",
       "        text-align: right;\n",
       "    }\n",
       "</style>\n",
       "<table border=\"1\" class=\"dataframe\">\n",
       "  <thead>\n",
       "    <tr style=\"text-align: right;\">\n",
       "      <th></th>\n",
       "      <th>Customer ID</th>\n",
       "      <th>Total</th>\n",
       "    </tr>\n",
       "  </thead>\n",
       "  <tbody>\n",
       "    <tr>\n",
       "      <th>0</th>\n",
       "      <td>5001</td>\n",
       "      <td>60</td>\n",
       "    </tr>\n",
       "    <tr>\n",
       "      <th>1</th>\n",
       "      <td>5002</td>\n",
       "      <td>22</td>\n",
       "    </tr>\n",
       "    <tr>\n",
       "      <th>2</th>\n",
       "      <td>5004</td>\n",
       "      <td>9</td>\n",
       "    </tr>\n",
       "    <tr>\n",
       "      <th>3</th>\n",
       "      <td>5267</td>\n",
       "      <td>45</td>\n",
       "    </tr>\n",
       "    <tr>\n",
       "      <th>4</th>\n",
       "      <td>5338</td>\n",
       "      <td>18</td>\n",
       "    </tr>\n",
       "  </tbody>\n",
       "</table>\n",
       "</div>"
      ],
      "text/plain": [
       "   Customer ID  Total\n",
       "0         5001     60\n",
       "1         5002     22\n",
       "2         5004      9\n",
       "3         5267     45\n",
       "4         5338     18"
      ]
     },
     "execution_count": 57,
     "metadata": {},
     "output_type": "execute_result"
    }
   ],
   "source": [
    "Total_audio = df_listen_history.groupby('Customer ID')['Audio ID'].count().to_frame().rename(columns={'Audio ID':'Total'}).reset_index()\n",
    "Total_audio.head()"
   ]
  },
  {
   "cell_type": "code",
   "execution_count": 58,
   "metadata": {},
   "outputs": [],
   "source": [
    "audio_final = genre.merge(Total_audio, how = 'left', on = 'Customer ID')"
   ]
  },
  {
   "cell_type": "code",
   "execution_count": 59,
   "metadata": {},
   "outputs": [
    {
     "data": {
      "text/html": [
       "<div>\n",
       "<style scoped>\n",
       "    .dataframe tbody tr th:only-of-type {\n",
       "        vertical-align: middle;\n",
       "    }\n",
       "\n",
       "    .dataframe tbody tr th {\n",
       "        vertical-align: top;\n",
       "    }\n",
       "\n",
       "    .dataframe thead th {\n",
       "        text-align: right;\n",
       "    }\n",
       "</style>\n",
       "<table border=\"1\" class=\"dataframe\">\n",
       "  <thead>\n",
       "    <tr style=\"text-align: right;\">\n",
       "      <th></th>\n",
       "      <th>Customer ID</th>\n",
       "      <th>Comedy</th>\n",
       "      <th>Country</th>\n",
       "      <th>Hip Hop</th>\n",
       "      <th>Jazz</th>\n",
       "      <th>Pop</th>\n",
       "      <th>True Crime</th>\n",
       "      <th>Total</th>\n",
       "    </tr>\n",
       "  </thead>\n",
       "  <tbody>\n",
       "    <tr>\n",
       "      <th>0</th>\n",
       "      <td>5001</td>\n",
       "      <td>0</td>\n",
       "      <td>0</td>\n",
       "      <td>26</td>\n",
       "      <td>0</td>\n",
       "      <td>34</td>\n",
       "      <td>0</td>\n",
       "      <td>60</td>\n",
       "    </tr>\n",
       "    <tr>\n",
       "      <th>1</th>\n",
       "      <td>5002</td>\n",
       "      <td>0</td>\n",
       "      <td>22</td>\n",
       "      <td>0</td>\n",
       "      <td>0</td>\n",
       "      <td>0</td>\n",
       "      <td>0</td>\n",
       "      <td>22</td>\n",
       "    </tr>\n",
       "    <tr>\n",
       "      <th>2</th>\n",
       "      <td>5004</td>\n",
       "      <td>0</td>\n",
       "      <td>0</td>\n",
       "      <td>0</td>\n",
       "      <td>0</td>\n",
       "      <td>9</td>\n",
       "      <td>0</td>\n",
       "      <td>9</td>\n",
       "    </tr>\n",
       "    <tr>\n",
       "      <th>3</th>\n",
       "      <td>5267</td>\n",
       "      <td>0</td>\n",
       "      <td>0</td>\n",
       "      <td>22</td>\n",
       "      <td>0</td>\n",
       "      <td>23</td>\n",
       "      <td>0</td>\n",
       "      <td>45</td>\n",
       "    </tr>\n",
       "    <tr>\n",
       "      <th>4</th>\n",
       "      <td>5338</td>\n",
       "      <td>0</td>\n",
       "      <td>18</td>\n",
       "      <td>0</td>\n",
       "      <td>0</td>\n",
       "      <td>0</td>\n",
       "      <td>0</td>\n",
       "      <td>18</td>\n",
       "    </tr>\n",
       "  </tbody>\n",
       "</table>\n",
       "</div>"
      ],
      "text/plain": [
       "   Customer ID  Comedy  Country  Hip Hop  Jazz  Pop  True Crime  Total\n",
       "0         5001       0        0       26     0   34           0     60\n",
       "1         5002       0       22        0     0    0           0     22\n",
       "2         5004       0        0        0     0    9           0      9\n",
       "3         5267       0        0       22     0   23           0     45\n",
       "4         5338       0       18        0     0    0           0     18"
      ]
     },
     "execution_count": 59,
     "metadata": {},
     "output_type": "execute_result"
    }
   ],
   "source": [
    "audio_final.head()"
   ]
  },
  {
   "cell_type": "code",
   "execution_count": 60,
   "metadata": {},
   "outputs": [
    {
     "data": {
      "text/html": [
       "<div>\n",
       "<style scoped>\n",
       "    .dataframe tbody tr th:only-of-type {\n",
       "        vertical-align: middle;\n",
       "    }\n",
       "\n",
       "    .dataframe tbody tr th {\n",
       "        vertical-align: top;\n",
       "    }\n",
       "\n",
       "    .dataframe thead th {\n",
       "        text-align: right;\n",
       "    }\n",
       "</style>\n",
       "<table border=\"1\" class=\"dataframe\">\n",
       "  <thead>\n",
       "    <tr style=\"text-align: right;\">\n",
       "      <th></th>\n",
       "      <th>Customer ID</th>\n",
       "      <th>Cancelled</th>\n",
       "      <th>Discount?</th>\n",
       "      <th>Total Sessions</th>\n",
       "      <th>Percent Pop</th>\n",
       "    </tr>\n",
       "  </thead>\n",
       "  <tbody>\n",
       "    <tr>\n",
       "      <th>0</th>\n",
       "      <td>5001</td>\n",
       "      <td>0</td>\n",
       "      <td>0</td>\n",
       "      <td>8</td>\n",
       "      <td>56.666667</td>\n",
       "    </tr>\n",
       "    <tr>\n",
       "      <th>1</th>\n",
       "      <td>5002</td>\n",
       "      <td>0</td>\n",
       "      <td>0</td>\n",
       "      <td>4</td>\n",
       "      <td>0.000000</td>\n",
       "    </tr>\n",
       "    <tr>\n",
       "      <th>2</th>\n",
       "      <td>5004</td>\n",
       "      <td>1</td>\n",
       "      <td>0</td>\n",
       "      <td>1</td>\n",
       "      <td>100.000000</td>\n",
       "    </tr>\n",
       "    <tr>\n",
       "      <th>3</th>\n",
       "      <td>5267</td>\n",
       "      <td>0</td>\n",
       "      <td>0</td>\n",
       "      <td>7</td>\n",
       "      <td>51.111111</td>\n",
       "    </tr>\n",
       "    <tr>\n",
       "      <th>4</th>\n",
       "      <td>5338</td>\n",
       "      <td>0</td>\n",
       "      <td>0</td>\n",
       "      <td>4</td>\n",
       "      <td>0.000000</td>\n",
       "    </tr>\n",
       "  </tbody>\n",
       "</table>\n",
       "</div>"
      ],
      "text/plain": [
       "   Customer ID  Cancelled  Discount?  Total Sessions  Percent Pop\n",
       "0         5001          0          0               8    56.666667\n",
       "1         5002          0          0               4     0.000000\n",
       "2         5004          1          0               1   100.000000\n",
       "3         5267          0          0               7    51.111111\n",
       "4         5338          0          0               4     0.000000"
      ]
     },
     "execution_count": 60,
     "metadata": {},
     "output_type": "execute_result"
    }
   ],
   "source": [
    "model['Percent Pop'] = audio_final.Pop/audio_final.Total *100\n",
    "model.head()"
   ]
  },
  {
   "cell_type": "code",
   "execution_count": 61,
   "metadata": {},
   "outputs": [
    {
     "data": {
      "text/html": [
       "<div>\n",
       "<style scoped>\n",
       "    .dataframe tbody tr th:only-of-type {\n",
       "        vertical-align: middle;\n",
       "    }\n",
       "\n",
       "    .dataframe tbody tr th {\n",
       "        vertical-align: top;\n",
       "    }\n",
       "\n",
       "    .dataframe thead th {\n",
       "        text-align: right;\n",
       "    }\n",
       "</style>\n",
       "<table border=\"1\" class=\"dataframe\">\n",
       "  <thead>\n",
       "    <tr style=\"text-align: right;\">\n",
       "      <th></th>\n",
       "      <th>Customer ID</th>\n",
       "      <th>Cancelled</th>\n",
       "      <th>Discount?</th>\n",
       "      <th>Total Sessions</th>\n",
       "      <th>Percent Pop</th>\n",
       "    </tr>\n",
       "  </thead>\n",
       "  <tbody>\n",
       "    <tr>\n",
       "      <th>0</th>\n",
       "      <td>5001</td>\n",
       "      <td>0</td>\n",
       "      <td>0</td>\n",
       "      <td>8</td>\n",
       "      <td>56.666667</td>\n",
       "    </tr>\n",
       "    <tr>\n",
       "      <th>1</th>\n",
       "      <td>5002</td>\n",
       "      <td>0</td>\n",
       "      <td>0</td>\n",
       "      <td>4</td>\n",
       "      <td>0.000000</td>\n",
       "    </tr>\n",
       "    <tr>\n",
       "      <th>2</th>\n",
       "      <td>5004</td>\n",
       "      <td>1</td>\n",
       "      <td>0</td>\n",
       "      <td>1</td>\n",
       "      <td>100.000000</td>\n",
       "    </tr>\n",
       "    <tr>\n",
       "      <th>3</th>\n",
       "      <td>5267</td>\n",
       "      <td>0</td>\n",
       "      <td>0</td>\n",
       "      <td>7</td>\n",
       "      <td>51.111111</td>\n",
       "    </tr>\n",
       "    <tr>\n",
       "      <th>4</th>\n",
       "      <td>5338</td>\n",
       "      <td>0</td>\n",
       "      <td>0</td>\n",
       "      <td>4</td>\n",
       "      <td>0.000000</td>\n",
       "    </tr>\n",
       "  </tbody>\n",
       "</table>\n",
       "</div>"
      ],
      "text/plain": [
       "   Customer ID  Cancelled  Discount?  Total Sessions  Percent Pop\n",
       "0         5001          0          0               8    56.666667\n",
       "1         5002          0          0               4     0.000000\n",
       "2         5004          1          0               1   100.000000\n",
       "3         5267          0          0               7    51.111111\n",
       "4         5338          0          0               4     0.000000"
      ]
     },
     "execution_count": 61,
     "metadata": {},
     "output_type": "execute_result"
    }
   ],
   "source": [
    "model.head()"
   ]
  },
  {
   "cell_type": "code",
   "execution_count": 62,
   "metadata": {},
   "outputs": [],
   "source": [
    "# Percent podcasts\n",
    "model['Percent Podcast'] = ((audio_final['Comedy'] + audio_final['True Crime'])/audio_final.Total)*100"
   ]
  },
  {
   "cell_type": "markdown",
   "metadata": {},
   "source": [
    "Visualize the relationships in the modeling DataFrame using a pair plot:\n",
    "* What are some of your observations?\n",
    "* What variables might do a good job predicting customer cancellation?"
   ]
  },
  {
   "cell_type": "code",
   "execution_count": 63,
   "metadata": {},
   "outputs": [
    {
     "data": {
      "text/html": [
       "<div>\n",
       "<style scoped>\n",
       "    .dataframe tbody tr th:only-of-type {\n",
       "        vertical-align: middle;\n",
       "    }\n",
       "\n",
       "    .dataframe tbody tr th {\n",
       "        vertical-align: top;\n",
       "    }\n",
       "\n",
       "    .dataframe thead th {\n",
       "        text-align: right;\n",
       "    }\n",
       "</style>\n",
       "<table border=\"1\" class=\"dataframe\">\n",
       "  <thead>\n",
       "    <tr style=\"text-align: right;\">\n",
       "      <th></th>\n",
       "      <th>Customer ID</th>\n",
       "      <th>Cancelled</th>\n",
       "      <th>Discount?</th>\n",
       "      <th>Total Sessions</th>\n",
       "      <th>Percent Pop</th>\n",
       "      <th>Percent Podcast</th>\n",
       "    </tr>\n",
       "  </thead>\n",
       "  <tbody>\n",
       "    <tr>\n",
       "      <th>Customer ID</th>\n",
       "      <td>1.000000</td>\n",
       "      <td>0.269942</td>\n",
       "      <td>0.648514</td>\n",
       "      <td>-0.337083</td>\n",
       "      <td>-0.076129</td>\n",
       "      <td>0.083083</td>\n",
       "    </tr>\n",
       "    <tr>\n",
       "      <th>Cancelled</th>\n",
       "      <td>0.269942</td>\n",
       "      <td>1.000000</td>\n",
       "      <td>0.471825</td>\n",
       "      <td>-0.333739</td>\n",
       "      <td>0.585630</td>\n",
       "      <td>-0.035414</td>\n",
       "    </tr>\n",
       "    <tr>\n",
       "      <th>Discount?</th>\n",
       "      <td>0.648514</td>\n",
       "      <td>0.471825</td>\n",
       "      <td>1.000000</td>\n",
       "      <td>-0.048877</td>\n",
       "      <td>0.112675</td>\n",
       "      <td>0.062938</td>\n",
       "    </tr>\n",
       "    <tr>\n",
       "      <th>Total Sessions</th>\n",
       "      <td>-0.337083</td>\n",
       "      <td>-0.333739</td>\n",
       "      <td>-0.048877</td>\n",
       "      <td>1.000000</td>\n",
       "      <td>-0.131156</td>\n",
       "      <td>-0.125459</td>\n",
       "    </tr>\n",
       "    <tr>\n",
       "      <th>Percent Pop</th>\n",
       "      <td>-0.076129</td>\n",
       "      <td>0.585630</td>\n",
       "      <td>0.112675</td>\n",
       "      <td>-0.131156</td>\n",
       "      <td>1.000000</td>\n",
       "      <td>-0.487193</td>\n",
       "    </tr>\n",
       "    <tr>\n",
       "      <th>Percent Podcast</th>\n",
       "      <td>0.083083</td>\n",
       "      <td>-0.035414</td>\n",
       "      <td>0.062938</td>\n",
       "      <td>-0.125459</td>\n",
       "      <td>-0.487193</td>\n",
       "      <td>1.000000</td>\n",
       "    </tr>\n",
       "  </tbody>\n",
       "</table>\n",
       "</div>"
      ],
      "text/plain": [
       "                 Customer ID  Cancelled  Discount?  Total Sessions  \\\n",
       "Customer ID         1.000000   0.269942   0.648514       -0.337083   \n",
       "Cancelled           0.269942   1.000000   0.471825       -0.333739   \n",
       "Discount?           0.648514   0.471825   1.000000       -0.048877   \n",
       "Total Sessions     -0.337083  -0.333739  -0.048877        1.000000   \n",
       "Percent Pop        -0.076129   0.585630   0.112675       -0.131156   \n",
       "Percent Podcast     0.083083  -0.035414   0.062938       -0.125459   \n",
       "\n",
       "                 Percent Pop  Percent Podcast  \n",
       "Customer ID        -0.076129         0.083083  \n",
       "Cancelled           0.585630        -0.035414  \n",
       "Discount?           0.112675         0.062938  \n",
       "Total Sessions     -0.131156        -0.125459  \n",
       "Percent Pop         1.000000        -0.487193  \n",
       "Percent Podcast    -0.487193         1.000000  "
      ]
     },
     "execution_count": 63,
     "metadata": {},
     "output_type": "execute_result"
    }
   ],
   "source": [
    "model.corr()"
   ]
  },
  {
   "cell_type": "markdown",
   "metadata": {},
   "source": [
    "* Percent Pop can be a good predictor for model"
   ]
  }
 ],
 "metadata": {
  "kernelspec": {
   "display_name": "Python 3 (ipykernel)",
   "language": "python",
   "name": "python3"
  },
  "language_info": {
   "codemirror_mode": {
    "name": "ipython",
    "version": 3
   },
   "file_extension": ".py",
   "mimetype": "text/x-python",
   "name": "python",
   "nbconvert_exporter": "python",
   "pygments_lexer": "ipython3",
   "version": "3.10.9"
  }
 },
 "nbformat": 4,
 "nbformat_minor": 4
}
